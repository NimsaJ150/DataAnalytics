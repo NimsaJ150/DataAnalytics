{
 "cells": [
  {
   "cell_type": "code",
   "execution_count": 21,
   "id": "6f5adc26",
   "metadata": {},
   "outputs": [],
   "source": [
    "import pandas as pd\n",
    "import numpy as np\n",
    "from sklearn.neighbors import KNeighborsClassifier\n",
    "from sklearn.preprocessing import StandardScaler"
   ]
  },
  {
   "cell_type": "markdown",
   "id": "ed65545e",
   "metadata": {},
   "source": [
    "# k-NN analyis of wine data\n",
    "Our first goal is to analyze wine datasets to classify wine quality based on different quality indicators.\n",
    "\n",
    "Input variables (based on physicochemical tests):\n",
    "<br><br>\n",
    "1 - fixed acidity\n",
    "<br>\n",
    "2 - volatile acidity\n",
    "<br>\n",
    "3 - citric acid\n",
    "<br>\n",
    "4 - residual sugar\n",
    "<br>\n",
    "5 - chlorides\n",
    "<br>\n",
    "6 - free sulfur dioxide\n",
    "<br>\n",
    "7 - total sulfur dioxide\n",
    "<br>\n",
    "8 - density\n",
    "<br>\n",
    "9 - pH\n",
    "<br>\n",
    "10 - sulphates\n",
    "<br>\n",
    "11 - alcohol\n",
    "<br><br>\n",
    "Output variable (based on sensory data):\n",
    "<br><br>\n",
    "12 - quality (score between 0 and 10)\n",
    "\n",
    "More datasets can be found at: https://archive.ics.uci.edu/ml/datasets.php?format=&task=&att=&area=&numAtt=&numIns=&type=&sort=instDown&view=table"
   ]
  },
  {
   "cell_type": "code",
   "execution_count": 2,
   "id": "039a3728",
   "metadata": {},
   "outputs": [],
   "source": [
    "data = pd.read_csv(\"winequality-white.csv\",delimiter=\";\")"
   ]
  },
  {
   "cell_type": "code",
   "execution_count": 3,
   "id": "2746de0c",
   "metadata": {},
   "outputs": [],
   "source": [
    "X = data.drop(\"quality\", axis=1).to_numpy()\n",
    "y = data[\"quality\"].to_numpy()"
   ]
  },
  {
   "cell_type": "code",
   "execution_count": 30,
   "id": "908e4309",
   "metadata": {},
   "outputs": [
    {
     "data": {
      "text/plain": [
       "KNeighborsClassifier(n_neighbors=3)"
      ]
     },
     "execution_count": 30,
     "metadata": {},
     "output_type": "execute_result"
    }
   ],
   "source": [
    "neigh = KNeighborsClassifier(n_neighbors=3)\n",
    "neigh.fit(X, y)"
   ]
  },
  {
   "cell_type": "code",
   "execution_count": 31,
   "id": "f8517f18",
   "metadata": {},
   "outputs": [
    {
     "name": "stdout",
     "output_type": "stream",
     "text": [
      "[6]\n"
     ]
    }
   ],
   "source": [
    "print(neigh.predict([[8,0.7,0.,2,0.076,11.,48.,0.9978,3.51,0.56,12]]))"
   ]
  },
  {
   "cell_type": "markdown",
   "id": "8461b8f9",
   "metadata": {},
   "source": [
    "# k-NN analyis of BTC data\n",
    "\n",
    "Features:\n",
    "<br><br>\n",
    "address: String. Bitcoin address.\n",
    "<br>\n",
    "year: Integer. Year.\n",
    "<br>\n",
    "day: Integer. Day of the year. 1 is the first day, 365 is the last day.\n",
    "<br>\n",
    "length: Integer.\n",
    "<br>\n",
    "weight: Float.\n",
    "<br>\n",
    "count: Integer.\n",
    "<br>\n",
    "looped: Integer.\n",
    "<br>\n",
    "neighbors: Integer.\n",
    "<br>\n",
    "income: Integer. Satoshi amount (1 bitcoin = 100 million satoshis).\n",
    "<br><br>\n",
    "Output variable: \n",
    "<br><br>\n",
    "label: Category String. Name of the ransomware family (e.g., Cryptxxx, cryptolocker etc) or white (i.e., not known to be ransomware). "
   ]
  },
  {
   "cell_type": "code",
   "execution_count": 2,
   "id": "634f27ab",
   "metadata": {},
   "outputs": [],
   "source": [
    "data = pd.read_csv(\"BTC_data/BitcoinHeistData.csv\",delimiter=\",\")"
   ]
  },
  {
   "cell_type": "markdown",
   "id": "5da0aa66",
   "metadata": {},
   "source": [
    "Let's hash all address strings to integers."
   ]
  },
  {
   "cell_type": "code",
   "execution_count": 3,
   "id": "fb27ef8d",
   "metadata": {},
   "outputs": [],
   "source": [
    "data[\"address_hash\"] = data[\"address\"].apply(hash)"
   ]
  },
  {
   "cell_type": "code",
   "execution_count": 4,
   "id": "23309259",
   "metadata": {},
   "outputs": [],
   "source": [
    "X = data.drop([\"label\",\"address\"], axis=1).to_numpy()\n",
    "y = data[\"label\"].to_numpy()"
   ]
  },
  {
   "cell_type": "markdown",
   "id": "a099a723",
   "metadata": {},
   "source": [
    "We should also rescale the dataset, because all features have different numerical scales."
   ]
  },
  {
   "cell_type": "code",
   "execution_count": 5,
   "id": "4d02ec33",
   "metadata": {},
   "outputs": [
    {
     "data": {
      "text/plain": [
       "StandardScaler()"
      ]
     },
     "execution_count": 5,
     "metadata": {},
     "output_type": "execute_result"
    }
   ],
   "source": [
    "scaler = StandardScaler()\n",
    "scaler.fit(X)"
   ]
  },
  {
   "cell_type": "code",
   "execution_count": 6,
   "id": "43a7bea4",
   "metadata": {},
   "outputs": [],
   "source": [
    "X = scaler.transform(X)"
   ]
  },
  {
   "cell_type": "code",
   "execution_count": null,
   "id": "94699df7",
   "metadata": {},
   "outputs": [],
   "source": [
    "neigh = KNeighborsClassifier(n_neighbors=3)\n",
    "neigh.fit(X, y)"
   ]
  },
  {
   "cell_type": "markdown",
   "id": "f27ef5a9",
   "metadata": {},
   "source": [
    "This takes a very long time..."
   ]
  },
  {
   "cell_type": "markdown",
   "id": "4888ae22",
   "metadata": {},
   "source": [
    "Exercise: Can you come up with an efficient k-NN implementation in PySpark?"
   ]
  },
  {
   "cell_type": "code",
   "execution_count": null,
   "id": "ce4340d0",
   "metadata": {},
   "outputs": [],
   "source": []
  }
 ],
 "metadata": {
  "kernelspec": {
   "display_name": "Python 3",
   "language": "python",
   "name": "python3"
  },
  "language_info": {
   "codemirror_mode": {
    "name": "ipython",
    "version": 3
   },
   "file_extension": ".py",
   "mimetype": "text/x-python",
   "name": "python",
   "nbconvert_exporter": "python",
   "pygments_lexer": "ipython3",
   "version": "3.6.13"
  }
 },
 "nbformat": 4,
 "nbformat_minor": 5
}
