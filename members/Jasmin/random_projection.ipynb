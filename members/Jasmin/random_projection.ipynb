{
 "cells": [
  {
   "cell_type": "code",
   "execution_count": 10,
   "metadata": {
    "collapsed": true
   },
   "outputs": [],
   "source": [
    "import numpy as np\n",
    "import matplotlib.pyplot"
   ]
  },
  {
   "cell_type": "code",
   "execution_count": 11,
   "outputs": [],
   "source": [
    "def random_projection_method(X, R):\n",
    "    \"\"\"\n",
    "    Implements the Random Projection Method.\n",
    "\n",
    "    :param X: data matrix(with dimensions dxN)\n",
    "    :type X: float\n",
    "    :param R: projection matrix (with dimensions kxd, k<d)\n",
    "    :type R: float\n",
    "    :return: random projection of X with dimension kxN\n",
    "    \"\"\"\n",
    "\n",
    "    return np.linalg.linalg.dot(R, X)"
   ],
   "metadata": {
    "collapsed": false,
    "pycharm": {
     "name": "#%%\n"
    }
   }
  },
  {
   "cell_type": "code",
   "execution_count": 30,
   "outputs": [],
   "source": [
    "def achlioptas_matrix(X, k):\n",
    "    \"\"\"\n",
    "    Implements the Achlioptas Projection Method.\n",
    "\n",
    "    :param X: data matrix(with dimensions dxN)\n",
    "    :type X: float\n",
    "    :param k: target dimension for dimensionality reduction\n",
    "    :type k: float\n",
    "    :return: Achlioptas matrix (with dimensions kxd)\n",
    "    \"\"\"\n",
    "\n",
    "    d = X.shape[0]\n",
    "    R = np.zeros((k, d))\n",
    "\n",
    "    rand = np.random.rand(k, d)\n",
    "\n",
    "    R[rand < 1 / 6] = 1\n",
    "    R[rand > 5 / 6] = -1\n",
    "\n",
    "    return R"
   ],
   "metadata": {
    "collapsed": false,
    "pycharm": {
     "name": "#%%\n"
    }
   }
  },
  {
   "cell_type": "code",
   "execution_count": 31,
   "outputs": [],
   "source": [
    "X = np.random.rand(10, 10)\n",
    "R = np.ones((10, 10))"
   ],
   "metadata": {
    "collapsed": false,
    "pycharm": {
     "name": "#%%\n"
    }
   }
  },
  {
   "cell_type": "code",
   "execution_count": 32,
   "outputs": [
    {
     "data": {
      "text/plain": "array([[3.31340025, 6.03979482, 3.15347676, 3.60971255, 4.26786067,\n        5.61842209, 5.0846666 , 4.58582844, 4.33236743, 3.51556005],\n       [3.31340025, 6.03979482, 3.15347676, 3.60971255, 4.26786067,\n        5.61842209, 5.0846666 , 4.58582844, 4.33236743, 3.51556005],\n       [3.31340025, 6.03979482, 3.15347676, 3.60971255, 4.26786067,\n        5.61842209, 5.0846666 , 4.58582844, 4.33236743, 3.51556005],\n       [3.31340025, 6.03979482, 3.15347676, 3.60971255, 4.26786067,\n        5.61842209, 5.0846666 , 4.58582844, 4.33236743, 3.51556005],\n       [3.31340025, 6.03979482, 3.15347676, 3.60971255, 4.26786067,\n        5.61842209, 5.0846666 , 4.58582844, 4.33236743, 3.51556005],\n       [3.31340025, 6.03979482, 3.15347676, 3.60971255, 4.26786067,\n        5.61842209, 5.0846666 , 4.58582844, 4.33236743, 3.51556005],\n       [3.31340025, 6.03979482, 3.15347676, 3.60971255, 4.26786067,\n        5.61842209, 5.0846666 , 4.58582844, 4.33236743, 3.51556005],\n       [3.31340025, 6.03979482, 3.15347676, 3.60971255, 4.26786067,\n        5.61842209, 5.0846666 , 4.58582844, 4.33236743, 3.51556005],\n       [3.31340025, 6.03979482, 3.15347676, 3.60971255, 4.26786067,\n        5.61842209, 5.0846666 , 4.58582844, 4.33236743, 3.51556005],\n       [3.31340025, 6.03979482, 3.15347676, 3.60971255, 4.26786067,\n        5.61842209, 5.0846666 , 4.58582844, 4.33236743, 3.51556005]])"
     },
     "execution_count": 32,
     "metadata": {},
     "output_type": "execute_result"
    }
   ],
   "source": [
    "random_projection_method(X, R)"
   ],
   "metadata": {
    "collapsed": false,
    "pycharm": {
     "name": "#%%\n"
    }
   }
  },
  {
   "cell_type": "code",
   "execution_count": 33,
   "outputs": [],
   "source": [
    "R = achlioptas_matrix(X, 5)"
   ],
   "metadata": {
    "collapsed": false,
    "pycharm": {
     "name": "#%%\n"
    }
   }
  },
  {
   "cell_type": "code",
   "execution_count": 34,
   "outputs": [
    {
     "data": {
      "text/plain": "array([[-1.18484064, -0.83358393, -0.21768537, -0.71996168, -0.70649822,\n        -0.94004633,  0.01441074, -1.28967375, -0.59305561,  0.06885398],\n       [-0.22636014, -0.00440764, -0.13978028, -0.2957637 , -0.19559382,\n        -0.54888204, -0.20999217, -0.77849217, -0.4846799 , -0.63934039],\n       [ 0.60215915,  1.78514531,  0.75631347,  1.03416135, -0.097853  ,\n        -0.24556641,  0.57318482,  1.62876736,  1.20513223,  2.02355074],\n       [-0.73790765, -0.81342511,  0.24739293,  0.63425662, -0.19458458,\n        -0.56629019, -0.56203403,  0.34671927, -0.43154988,  1.31953983],\n       [ 0.28939373,  1.41435615, -0.18766766,  1.72607515,  0.59110271,\n         1.29241636,  0.59024371,  1.61945315,  0.89199125,  1.50805184]])"
     },
     "execution_count": 34,
     "metadata": {},
     "output_type": "execute_result"
    }
   ],
   "source": [
    "random_projection_method(X, R)"
   ],
   "metadata": {
    "collapsed": false,
    "pycharm": {
     "name": "#%%\n"
    }
   }
  },
  {
   "cell_type": "code",
   "execution_count": null,
   "outputs": [],
   "source": [],
   "metadata": {
    "collapsed": false,
    "pycharm": {
     "name": "#%%\n"
    }
   }
  }
 ],
 "metadata": {
  "kernelspec": {
   "display_name": "Python 3",
   "language": "python",
   "name": "python3"
  },
  "language_info": {
   "codemirror_mode": {
    "name": "ipython",
    "version": 2
   },
   "file_extension": ".py",
   "mimetype": "text/x-python",
   "name": "python",
   "nbconvert_exporter": "python",
   "pygments_lexer": "ipython2",
   "version": "2.7.6"
  }
 },
 "nbformat": 4,
 "nbformat_minor": 0
}