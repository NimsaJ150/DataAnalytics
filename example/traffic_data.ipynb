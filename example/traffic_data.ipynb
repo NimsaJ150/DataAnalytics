{
 "cells": [
  {
   "cell_type": "markdown",
   "metadata": {
    "collapsed": true,
    "pycharm": {
     "name": "#%% md\n"
    }
   },
   "source": [
    "TODO: chapter numbers\n",
    "\n",
    "# Data Analysis\n",
    "\n",
    "1. 2019 vs 2020 differences\n",
    "2. Prediction of Severity with traffic data [day, time, state??]\n",
    "\n",
    "---\n",
    "## 1 Imports\n",
    "### 1.1 Libraries"
   ]
  },
  {
   "cell_type": "code",
   "execution_count": 1,
   "outputs": [],
   "source": [
    "import os\n",
    "\n",
    "import numpy as np\n",
    "import pandas as pd"
   ],
   "metadata": {
    "collapsed": false,
    "pycharm": {
     "name": "#%%\n"
    }
   }
  },
  {
   "cell_type": "markdown",
   "source": [
    "### 1.2 Data"
   ],
   "metadata": {
    "collapsed": false
   }
  },
  {
   "cell_type": "code",
   "execution_count": 5,
   "outputs": [],
   "source": [
    "file_path = './US_Accidents_Dec20_updated.csv'\n",
    "\n",
    "# If file exists\n",
    "if os.path.isfile(file_path):\n",
    "    data_ori = pd.read_csv(file_path)\n",
    "else:\n",
    "    # TODO: insert code to download file\n",
    "    pass\n",
    "\"\"\"\n",
    "PATH_HOME = os.getcwd()\n",
    "PATH_DATA = os.path.join(PATH_HOME, \"data\")\n",
    "PATH_OUTPUT = os.path.join(PATH_HOME, \"output\")\n",
    "filename = os.path.join(PATH_DATA, \"amazon_electronics.json\")\n",
    "if not os.path.exists(filename):\n",
    "    display(\"Reading from URL..\")\n",
    "    df_amz = pd.read_json(\"https://www.dropbox.com/s/o9jxaeax4mascd3/Electronics_5.json?dl=1\", lines = True)\n",
    "    if not os.path.exists(PATH_DATA):\n",
    "        os.mkdir(PATH_DATA)\n",
    "    df_amz.to_pickle(filename)\n",
    "    \n",
    "else:\n",
    "    display(\"Reading from hard drive..\")\n",
    "    df_amz = pd.read_pickle(filename)\n",
    "\n",
    "df_amz.head()\n",
    "\"\"\""
   ],
   "metadata": {
    "collapsed": false,
    "pycharm": {
     "name": "#%%\n"
    }
   }
  },
  {
   "cell_type": "markdown",
   "source": [
    "---\n",
    "## 2 Definitions\n",
    "\n",
    "define the not self-explanatory features."
   ],
   "metadata": {
    "collapsed": false
   }
  },
  {
   "cell_type": "code",
   "execution_count": null,
   "outputs": [],
   "source": [],
   "metadata": {
    "collapsed": false,
    "pycharm": {
     "name": "#%%\n"
    }
   }
  },
  {
   "cell_type": "markdown",
   "source": [
    "---\n",
    "## 3 Data Overview"
   ],
   "metadata": {
    "collapsed": false
   }
  },
  {
   "cell_type": "code",
   "execution_count": 7,
   "outputs": [
    {
     "data": {
      "text/plain": "(1516064, 47)"
     },
     "execution_count": 7,
     "metadata": {},
     "output_type": "execute_result"
    }
   ],
   "source": [
    "# Shape of data\n",
    "data_ori.shape"
   ],
   "metadata": {
    "collapsed": false,
    "pycharm": {
     "name": "#%%\n"
    }
   }
  },
  {
   "cell_type": "code",
   "execution_count": 8,
   "outputs": [
    {
     "data": {
      "text/plain": "ID                        object\nSeverity                   int64\nStart_Time                object\nEnd_Time                  object\nStart_Lat                float64\nStart_Lng                float64\nEnd_Lat                  float64\nEnd_Lng                  float64\nDistance(mi)             float64\nDescription               object\nNumber                   float64\nStreet                    object\nSide                      object\nCity                      object\nCounty                    object\nState                     object\nZipcode                   object\nCountry                   object\nTimezone                  object\nAirport_Code              object\nWeather_Timestamp         object\nTemperature(F)           float64\nWind_Chill(F)            float64\nHumidity(%)              float64\nPressure(in)             float64\nVisibility(mi)           float64\nWind_Direction            object\nWind_Speed(mph)          float64\nPrecipitation(in)        float64\nWeather_Condition         object\nAmenity                     bool\nBump                        bool\nCrossing                    bool\nGive_Way                    bool\nJunction                    bool\nNo_Exit                     bool\nRailway                     bool\nRoundabout                  bool\nStation                     bool\nStop                        bool\nTraffic_Calming             bool\nTraffic_Signal              bool\nTurning_Loop                bool\nSunrise_Sunset            object\nCivil_Twilight            object\nNautical_Twilight         object\nAstronomical_Twilight     object\ndtype: object"
     },
     "execution_count": 8,
     "metadata": {},
     "output_type": "execute_result"
    }
   ],
   "source": [
    "# Types\n",
    "data_ori.dtypes\n"
   ],
   "metadata": {
    "collapsed": false,
    "pycharm": {
     "name": "#%%\n"
    }
   }
  },
  {
   "cell_type": "code",
   "execution_count": 9,
   "outputs": [
    {
     "data": {
      "text/plain": "['ID',\n 'Severity',\n 'Start_Time',\n 'End_Time',\n 'Start_Lat',\n 'Start_Lng',\n 'End_Lat',\n 'End_Lng',\n 'Distance(mi)',\n 'Description',\n 'Number',\n 'Street',\n 'Side',\n 'City',\n 'County',\n 'State',\n 'Zipcode',\n 'Country',\n 'Timezone',\n 'Airport_Code',\n 'Weather_Timestamp',\n 'Temperature(F)',\n 'Wind_Chill(F)',\n 'Humidity(%)',\n 'Pressure(in)',\n 'Visibility(mi)',\n 'Wind_Direction',\n 'Wind_Speed(mph)',\n 'Precipitation(in)',\n 'Weather_Condition',\n 'Amenity',\n 'Bump',\n 'Crossing',\n 'Give_Way',\n 'Junction',\n 'No_Exit',\n 'Railway',\n 'Roundabout',\n 'Station',\n 'Stop',\n 'Traffic_Calming',\n 'Traffic_Signal',\n 'Turning_Loop',\n 'Sunrise_Sunset',\n 'Civil_Twilight',\n 'Nautical_Twilight',\n 'Astronomical_Twilight']"
     },
     "execution_count": 9,
     "metadata": {},
     "output_type": "execute_result"
    }
   ],
   "source": [
    "# Features\n",
    "list(data_ori)  # What potential lies in the \"Description\"?"
   ],
   "metadata": {
    "collapsed": false,
    "pycharm": {
     "name": "#%%\n"
    }
   }
  },
  {
   "cell_type": "code",
   "execution_count": 10,
   "outputs": [
    {
     "data": {
      "text/plain": "          ID  Severity           Start_Time             End_Time  Start_Lat  \\\n0  A-2716600         3  2016-02-08 00:37:08  2016-02-08 06:37:08  40.108910   \n1  A-2716601         2  2016-02-08 05:56:20  2016-02-08 11:56:20  39.865420   \n2  A-2716602         2  2016-02-08 06:15:39  2016-02-08 12:15:39  39.102660   \n3  A-2716603         2  2016-02-08 06:15:39  2016-02-08 12:15:39  39.101480   \n4  A-2716604         2  2016-02-08 06:51:45  2016-02-08 12:51:45  41.062130   \n5  A-2716605         3  2016-02-08 07:53:43  2016-02-08 13:53:43  39.172393   \n\n   Start_Lng    End_Lat    End_Lng  Distance(mi)  \\\n0 -83.092860  40.112060 -83.031870         3.230   \n1 -84.062800  39.865010 -84.048730         0.747   \n2 -84.524680  39.102090 -84.523960         0.055   \n3 -84.523410  39.098410 -84.522410         0.219   \n4 -81.537840  41.062170 -81.535470         0.123   \n5 -84.492792  39.170476 -84.501798         0.500   \n\n                                         Description          ...           \\\n0  Between Sawmill Rd/Exit 20 and OH-315/Olentang...          ...            \n1                 At OH-4/OH-235/Exit 41 - Accident.          ...            \n2                   At I-71/US-50/Exit 1 - Accident.          ...            \n3                   At I-71/US-50/Exit 1 - Accident.          ...            \n4                    At Dart Ave/Exit 21 - Accident.          ...            \n5                 At Mitchell Ave/Exit 6 - Accident.          ...            \n\n   Roundabout Station   Stop Traffic_Calming Traffic_Signal Turning_Loop  \\\n0       False   False  False           False          False        False   \n1       False   False  False           False          False        False   \n2       False   False  False           False          False        False   \n3       False   False  False           False          False        False   \n4       False   False  False           False          False        False   \n5       False   False  False           False          False        False   \n\n  Sunrise_Sunset Civil_Twilight Nautical_Twilight Astronomical_Twilight  \n0          Night          Night             Night                 Night  \n1          Night          Night             Night                 Night  \n2          Night          Night             Night                   Day  \n3          Night          Night             Night                   Day  \n4          Night          Night               Day                   Day  \n5            Day            Day               Day                   Day  \n\n[6 rows x 47 columns]",
      "text/html": "<div>\n<style scoped>\n    .dataframe tbody tr th:only-of-type {\n        vertical-align: middle;\n    }\n\n    .dataframe tbody tr th {\n        vertical-align: top;\n    }\n\n    .dataframe thead th {\n        text-align: right;\n    }\n</style>\n<table border=\"1\" class=\"dataframe\">\n  <thead>\n    <tr style=\"text-align: right;\">\n      <th></th>\n      <th>ID</th>\n      <th>Severity</th>\n      <th>Start_Time</th>\n      <th>End_Time</th>\n      <th>Start_Lat</th>\n      <th>Start_Lng</th>\n      <th>End_Lat</th>\n      <th>End_Lng</th>\n      <th>Distance(mi)</th>\n      <th>Description</th>\n      <th>...</th>\n      <th>Roundabout</th>\n      <th>Station</th>\n      <th>Stop</th>\n      <th>Traffic_Calming</th>\n      <th>Traffic_Signal</th>\n      <th>Turning_Loop</th>\n      <th>Sunrise_Sunset</th>\n      <th>Civil_Twilight</th>\n      <th>Nautical_Twilight</th>\n      <th>Astronomical_Twilight</th>\n    </tr>\n  </thead>\n  <tbody>\n    <tr>\n      <th>0</th>\n      <td>A-2716600</td>\n      <td>3</td>\n      <td>2016-02-08 00:37:08</td>\n      <td>2016-02-08 06:37:08</td>\n      <td>40.108910</td>\n      <td>-83.092860</td>\n      <td>40.112060</td>\n      <td>-83.031870</td>\n      <td>3.230</td>\n      <td>Between Sawmill Rd/Exit 20 and OH-315/Olentang...</td>\n      <td>...</td>\n      <td>False</td>\n      <td>False</td>\n      <td>False</td>\n      <td>False</td>\n      <td>False</td>\n      <td>False</td>\n      <td>Night</td>\n      <td>Night</td>\n      <td>Night</td>\n      <td>Night</td>\n    </tr>\n    <tr>\n      <th>1</th>\n      <td>A-2716601</td>\n      <td>2</td>\n      <td>2016-02-08 05:56:20</td>\n      <td>2016-02-08 11:56:20</td>\n      <td>39.865420</td>\n      <td>-84.062800</td>\n      <td>39.865010</td>\n      <td>-84.048730</td>\n      <td>0.747</td>\n      <td>At OH-4/OH-235/Exit 41 - Accident.</td>\n      <td>...</td>\n      <td>False</td>\n      <td>False</td>\n      <td>False</td>\n      <td>False</td>\n      <td>False</td>\n      <td>False</td>\n      <td>Night</td>\n      <td>Night</td>\n      <td>Night</td>\n      <td>Night</td>\n    </tr>\n    <tr>\n      <th>2</th>\n      <td>A-2716602</td>\n      <td>2</td>\n      <td>2016-02-08 06:15:39</td>\n      <td>2016-02-08 12:15:39</td>\n      <td>39.102660</td>\n      <td>-84.524680</td>\n      <td>39.102090</td>\n      <td>-84.523960</td>\n      <td>0.055</td>\n      <td>At I-71/US-50/Exit 1 - Accident.</td>\n      <td>...</td>\n      <td>False</td>\n      <td>False</td>\n      <td>False</td>\n      <td>False</td>\n      <td>False</td>\n      <td>False</td>\n      <td>Night</td>\n      <td>Night</td>\n      <td>Night</td>\n      <td>Day</td>\n    </tr>\n    <tr>\n      <th>3</th>\n      <td>A-2716603</td>\n      <td>2</td>\n      <td>2016-02-08 06:15:39</td>\n      <td>2016-02-08 12:15:39</td>\n      <td>39.101480</td>\n      <td>-84.523410</td>\n      <td>39.098410</td>\n      <td>-84.522410</td>\n      <td>0.219</td>\n      <td>At I-71/US-50/Exit 1 - Accident.</td>\n      <td>...</td>\n      <td>False</td>\n      <td>False</td>\n      <td>False</td>\n      <td>False</td>\n      <td>False</td>\n      <td>False</td>\n      <td>Night</td>\n      <td>Night</td>\n      <td>Night</td>\n      <td>Day</td>\n    </tr>\n    <tr>\n      <th>4</th>\n      <td>A-2716604</td>\n      <td>2</td>\n      <td>2016-02-08 06:51:45</td>\n      <td>2016-02-08 12:51:45</td>\n      <td>41.062130</td>\n      <td>-81.537840</td>\n      <td>41.062170</td>\n      <td>-81.535470</td>\n      <td>0.123</td>\n      <td>At Dart Ave/Exit 21 - Accident.</td>\n      <td>...</td>\n      <td>False</td>\n      <td>False</td>\n      <td>False</td>\n      <td>False</td>\n      <td>False</td>\n      <td>False</td>\n      <td>Night</td>\n      <td>Night</td>\n      <td>Day</td>\n      <td>Day</td>\n    </tr>\n    <tr>\n      <th>5</th>\n      <td>A-2716605</td>\n      <td>3</td>\n      <td>2016-02-08 07:53:43</td>\n      <td>2016-02-08 13:53:43</td>\n      <td>39.172393</td>\n      <td>-84.492792</td>\n      <td>39.170476</td>\n      <td>-84.501798</td>\n      <td>0.500</td>\n      <td>At Mitchell Ave/Exit 6 - Accident.</td>\n      <td>...</td>\n      <td>False</td>\n      <td>False</td>\n      <td>False</td>\n      <td>False</td>\n      <td>False</td>\n      <td>False</td>\n      <td>Day</td>\n      <td>Day</td>\n      <td>Day</td>\n      <td>Day</td>\n    </tr>\n  </tbody>\n</table>\n<p>6 rows × 47 columns</p>\n</div>"
     },
     "execution_count": 10,
     "metadata": {},
     "output_type": "execute_result"
    }
   ],
   "source": [
    "# Head\n",
    "data_ori.head(6)"
   ],
   "metadata": {
    "collapsed": false,
    "pycharm": {
     "name": "#%%\n"
    }
   }
  },
  {
   "cell_type": "code",
   "execution_count": 11,
   "outputs": [
    {
     "name": "stdout",
     "output_type": "stream",
     "text": [
      "           Severity     Start_Lat     Start_Lng       End_Lat       End_Lng  \\\n",
      "count  1.516064e+06  1.516064e+06  1.516064e+06  1.516064e+06  1.516064e+06   \n",
      "mean   2.238630e+00  3.690056e+01 -9.859919e+01  3.690061e+01 -9.859901e+01   \n",
      "std    6.081481e-01  5.165653e+00  1.849602e+01  5.165629e+00  1.849590e+01   \n",
      "min    1.000000e+00  2.457022e+01 -1.244976e+02  2.457011e+01 -1.244978e+02   \n",
      "25%    2.000000e+00  3.385422e+01 -1.182076e+02  3.385420e+01 -1.182077e+02   \n",
      "50%    2.000000e+00  3.735113e+01 -9.438100e+01  3.735134e+01 -9.437987e+01   \n",
      "75%    2.000000e+00  4.072593e+01 -8.087469e+01  4.072593e+01 -8.087449e+01   \n",
      "max    4.000000e+00  4.900058e+01 -6.711317e+01  4.907500e+01 -6.710924e+01   \n",
      "\n",
      "       Distance(mi)        Number  Temperature(F)  Wind_Chill(F)  \\\n",
      "count  1.516064e+06  4.699690e+05    1.473031e+06   1.066748e+06   \n",
      "mean   5.872617e-01  8.907533e+03    5.958460e+01   5.510976e+01   \n",
      "std    1.632659e+00  2.242190e+04    1.827316e+01   2.112735e+01   \n",
      "min    0.000000e+00  0.000000e+00   -8.900000e+01  -8.900000e+01   \n",
      "25%    0.000000e+00  1.212000e+03    4.700000e+01   4.080000e+01   \n",
      "50%    1.780000e-01  4.000000e+03    6.100000e+01   5.700000e+01   \n",
      "75%    5.940000e-01  1.010000e+04    7.300000e+01   7.100000e+01   \n",
      "max    1.551860e+02  9.999997e+06    1.706000e+02   1.130000e+02   \n",
      "\n",
      "        Humidity(%)  Pressure(in)  Visibility(mi)  Wind_Speed(mph)  \\\n",
      "count  1.470555e+06  1.479790e+06    1.471853e+06     1.387202e+06   \n",
      "mean   6.465960e+01  2.955495e+01    9.131755e+00     7.630812e+00   \n",
      "std    2.325986e+01  1.016756e+00    2.889112e+00     5.637364e+00   \n",
      "min    1.000000e+00  0.000000e+00    0.000000e+00     0.000000e+00   \n",
      "25%    4.800000e+01  2.944000e+01    1.000000e+01     4.600000e+00   \n",
      "50%    6.800000e+01  2.988000e+01    1.000000e+01     7.000000e+00   \n",
      "75%    8.400000e+01  3.004000e+01    1.000000e+01     1.040000e+01   \n",
      "max    1.000000e+02  5.804000e+01    1.400000e+02     9.840000e+02   \n",
      "\n",
      "       Precipitation(in)  \n",
      "count       1.005515e+06  \n",
      "mean        8.477855e-03  \n",
      "std         1.293168e-01  \n",
      "min         0.000000e+00  \n",
      "25%         0.000000e+00  \n",
      "50%         0.000000e+00  \n",
      "75%         0.000000e+00  \n",
      "max         2.400000e+01  \n"
     ]
    }
   ],
   "source": [
    "# Descriptions\n",
    "print(data_ori.describe())"
   ],
   "metadata": {
    "collapsed": false,
    "pycharm": {
     "name": "#%%\n"
    }
   }
  },
  {
   "cell_type": "markdown",
   "source": [
    "---\n",
    "## 5 Data Cleaning\n",
    "### 5.1 Outliers"
   ],
   "metadata": {
    "collapsed": false,
    "pycharm": {
     "name": "#%% md\n"
    }
   }
  },
  {
   "cell_type": "code",
   "execution_count": null,
   "outputs": [],
   "source": [
    "# interquantile range\n"
   ],
   "metadata": {
    "collapsed": false,
    "pycharm": {
     "name": "#%%\n"
    }
   }
  },
  {
   "cell_type": "markdown",
   "source": [
    "### 5.2 Incorrect values\n",
    "Wind Direction has values as E, east or calm, CALM, that mean the same."
   ],
   "metadata": {
    "collapsed": false
   }
  },
  {
   "cell_type": "code",
   "execution_count": null,
   "outputs": [],
   "source": [],
   "metadata": {
    "collapsed": false,
    "pycharm": {
     "name": "#%%\n"
    }
   }
  },
  {
   "cell_type": "markdown",
   "source": [
    "### 5.3 Missing values"
   ],
   "metadata": {
    "collapsed": false
   }
  },
  {
   "cell_type": "code",
   "execution_count": null,
   "outputs": [],
   "source": [
    "# fil End_lat and End_Lng by Start_Lat and Start_Lng (check prior what is the average difference between the two)\n"
   ],
   "metadata": {
    "collapsed": false,
    "pycharm": {
     "name": "#%%\n"
    }
   }
  },
  {
   "cell_type": "markdown",
   "source": [
    "### 5.5 Set Data Types"
   ],
   "metadata": {
    "collapsed": false
   }
  },
  {
   "cell_type": "code",
   "execution_count": null,
   "outputs": [],
   "source": [
    "data_prep = data_ori"
   ],
   "metadata": {
    "collapsed": false,
    "pycharm": {
     "name": "#%%\n"
    }
   }
  },
  {
   "cell_type": "markdown",
   "source": [
    "---\n",
    "## 6 Exploratory Data Analysis\n",
    "### 6.1 Univariate Non-Graphical\n",
    "\n",
    "describe data again\n",
    "\n",
    "idea: What learnings can be drawn for your own driving behaviour? When is the most dangerous time? What is the most\n",
    "what is the most dangerous weather? Which is the most dangerous state? How strong is the correlation between accidents\n",
    "and the population density? What are the safest types of crossings? Where is the most dangerous place in the US?\n",
    "difference weekday/weekend\n",
    "differentiate between corona and pre-corona times; include apple mobility data https://covid19.apple.com/mobility"
   ],
   "metadata": {
    "collapsed": false
   }
  },
  {
   "cell_type": "code",
   "execution_count": null,
   "outputs": [],
   "source": [
    "# display all value counts\n",
    "for column in : # list of columns\n",
    "    print(data_prep[column].value_counts().sort_index(), \"\\n\")"
   ],
   "metadata": {
    "collapsed": false,
    "pycharm": {
     "name": "#%%\n"
    }
   }
  },
  {
   "cell_type": "code",
   "execution_count": null,
   "outputs": [],
   "source": [
    "# display data types\n",
    "data_prep.dtypes"
   ],
   "metadata": {
    "collapsed": false,
    "pycharm": {
     "name": "#%%\n"
    }
   }
  },
  {
   "cell_type": "code",
   "execution_count": null,
   "outputs": [],
   "source": [
    "# describe numerical columns\n",
    "data_prep.describe()"
   ],
   "metadata": {
    "collapsed": false,
    "pycharm": {
     "name": "#%%\n"
    }
   }
  },
  {
   "cell_type": "code",
   "execution_count": null,
   "outputs": [],
   "source": [],
   "metadata": {
    "collapsed": false,
    "pycharm": {
     "name": "#%%\n"
    }
   }
  },
  {
   "cell_type": "code",
   "execution_count": null,
   "outputs": [],
   "source": [],
   "metadata": {
    "collapsed": false,
    "pycharm": {
     "name": "#%%\n"
    }
   }
  },
  {
   "cell_type": "code",
   "execution_count": null,
   "outputs": [],
   "source": [],
   "metadata": {
    "collapsed": false,
    "pycharm": {
     "name": "#%%\n"
    }
   }
  },
  {
   "cell_type": "code",
   "execution_count": null,
   "outputs": [],
   "source": [],
   "metadata": {
    "collapsed": false,
    "pycharm": {
     "name": "#%%\n"
    }
   }
  },
  {
   "cell_type": "code",
   "execution_count": null,
   "outputs": [],
   "source": [],
   "metadata": {
    "collapsed": false,
    "pycharm": {
     "name": "#%%\n"
    }
   }
  },
  {
   "cell_type": "markdown",
   "source": [
    "### 6.2 Univariate Graphical"
   ],
   "metadata": {
    "collapsed": false
   }
  },
  {
   "cell_type": "code",
   "execution_count": null,
   "outputs": [],
   "source": [
    "# ideas: qq plots, histograms, barplots,\n",
    "\n",
    "for column in : # list of columns\n",
    "    fig, ax = plt.subplots(1,1, figsize=(15, 6))\n",
    "    sns.countplot(y=data_prep[column][1:], data=data_prep.iloc[1:], order=data_prep[column][1:].value_counts().index, palette='Blues_r')\n",
    "    fig.text(0.1, 0.95, column, fontsize=16, fontweight='bold', fontfamily='serif')\n",
    "    plt.xlabel('', fontsize=20)\n",
    "    plt.ylabel('')\n",
    "    plt.yticks(fontsize=13)\n",
    "    plt.box(False)"
   ],
   "metadata": {
    "collapsed": false,
    "pycharm": {
     "name": "#%%\n"
    }
   }
  },
  {
   "cell_type": "code",
   "execution_count": null,
   "outputs": [],
   "source": [
    "# histogram of accidents of the biggest cities"
   ],
   "metadata": {
    "collapsed": false,
    "pycharm": {
     "name": "#%%\n"
    }
   }
  },
  {
   "cell_type": "code",
   "execution_count": null,
   "outputs": [],
   "source": [
    "# histogram of accidents according to the weather condition (how to standardize?)"
   ],
   "metadata": {
    "collapsed": false,
    "pycharm": {
     "name": "#%%\n"
    }
   }
  },
  {
   "cell_type": "code",
   "execution_count": null,
   "outputs": [],
   "source": [
    "# histogram of accidents according to time of day"
   ],
   "metadata": {
    "collapsed": false,
    "pycharm": {
     "name": "#%%\n"
    }
   }
  },
  {
   "cell_type": "code",
   "execution_count": null,
   "outputs": [],
   "source": [
    "# histogram of accidents filtered by state"
   ],
   "metadata": {
    "collapsed": false,
    "pycharm": {
     "name": "#%%\n"
    }
   }
  },
  {
   "cell_type": "code",
   "execution_count": null,
   "outputs": [],
   "source": [
    "# pie diagram on severity\n",
    "# pie diagram on severity if the weather is poor (wind > threashold, rain > threshold)"
   ],
   "metadata": {
    "collapsed": false,
    "pycharm": {
     "name": "#%%\n"
    }
   }
  },
  {
   "cell_type": "code",
   "execution_count": null,
   "outputs": [],
   "source": [
    "# average duration (densityfunction)"
   ],
   "metadata": {
    "collapsed": false,
    "pycharm": {
     "name": "#%%\n"
    }
   }
  },
  {
   "cell_type": "code",
   "execution_count": null,
   "outputs": [],
   "source": [
    "# barplot of the connection between severity and distance"
   ],
   "metadata": {
    "collapsed": false,
    "pycharm": {
     "name": "#%%\n"
    }
   }
  },
  {
   "cell_type": "code",
   "execution_count": null,
   "outputs": [],
   "source": [],
   "metadata": {
    "collapsed": false,
    "pycharm": {
     "name": "#%%\n"
    }
   }
  },
  {
   "cell_type": "code",
   "execution_count": null,
   "outputs": [],
   "source": [],
   "metadata": {
    "collapsed": false,
    "pycharm": {
     "name": "#%%\n"
    }
   }
  },
  {
   "cell_type": "code",
   "execution_count": null,
   "outputs": [],
   "source": [],
   "metadata": {
    "collapsed": false,
    "pycharm": {
     "name": "#%%\n"
    }
   }
  },
  {
   "cell_type": "markdown",
   "source": [
    "### 6.3 Multivariate Non-Graphical"
   ],
   "metadata": {
    "collapsed": false
   }
  },
  {
   "cell_type": "code",
   "execution_count": null,
   "outputs": [],
   "source": [
    "# correlation matrices and PCA??"
   ],
   "metadata": {
    "collapsed": false,
    "pycharm": {
     "name": "#%%\n"
    }
   }
  },
  {
   "cell_type": "markdown",
   "source": [
    "### 6.4 Multivariate Graphical"
   ],
   "metadata": {
    "collapsed": false
   }
  },
  {
   "cell_type": "code",
   "execution_count": null,
   "outputs": [],
   "source": [
    "sns.set(style='ticks')\n",
    "sns.pairplot(data_prep)\n",
    "# US map simple: scatterplot based on latitude and longitude data, with correct alpha, to show densitiy\n",
    "# ideas: A MAP of the US, showing the accident intensity for each place by colour\n",
    "# https://runestone.academy/runestone/books/published/httlads/WorldFacts/cs1_graphing_infant_mortality.html\n"
   ],
   "metadata": {
    "collapsed": false,
    "pycharm": {
     "name": "#%%\n"
    }
   }
  },
  {
   "cell_type": "markdown",
   "source": [
    "---\n",
    "## 7 Feature Engineering\n",
    "### 7.1 Type Conversion\n",
    "\n",
    "duration\n",
    "TMC: NA is an important information"
   ],
   "metadata": {
    "collapsed": false
   }
  },
  {
   "cell_type": "code",
   "execution_count": null,
   "outputs": [],
   "source": [],
   "metadata": {
    "collapsed": false,
    "pycharm": {
     "name": "#%%\n"
    }
   }
  },
  {
   "cell_type": "markdown",
   "source": [
    "### 7.2 Transformation"
   ],
   "metadata": {
    "collapsed": false
   }
  },
  {
   "cell_type": "code",
   "execution_count": null,
   "outputs": [],
   "source": [],
   "metadata": {
    "collapsed": false,
    "pycharm": {
     "name": "#%%\n"
    }
   }
  },
  {
   "cell_type": "markdown",
   "source": [
    "---\n",
    "## 8 Model\n",
    "### 8.1 Partitioning the Data"
   ],
   "metadata": {
    "collapsed": false
   }
  },
  {
   "cell_type": "code",
   "execution_count": null,
   "outputs": [],
   "source": [],
   "metadata": {
    "collapsed": false,
    "pycharm": {
     "name": "#%%\n"
    }
   }
  },
  {
   "cell_type": "markdown",
   "source": [
    "### 8.2 Sampling"
   ],
   "metadata": {
    "collapsed": false
   }
  },
  {
   "cell_type": "code",
   "execution_count": null,
   "outputs": [],
   "source": [],
   "metadata": {
    "collapsed": false,
    "pycharm": {
     "name": "#%%\n"
    }
   }
  },
  {
   "cell_type": "markdown",
   "source": [
    "### 8.3 \"\"Model\"\""
   ],
   "metadata": {
    "collapsed": false
   }
  },
  {
   "cell_type": "code",
   "execution_count": null,
   "outputs": [],
   "source": [
    "# How much does the inclusion of apples mobility value increase the accurancy of our prediction model?\n",
    "# LSTM-GBRT https://downloads.hindawi.com/journals/jcse/2020/4206919.pdf\n",
    "# hybrid K-means and random forest https://link.springer.com/content/pdf/10.1007/s42452-020-3125-1.pdf\n",
    "# OCT https://towardsdatascience.com/using-machine-learning-to-predict-car-accidents-44664c79c942\n",
    "# Regression-kriging https://carto.com/blog/predicting-traffic-accident-hotspots-with-spatial-data-science/\n"
   ],
   "metadata": {
    "collapsed": false,
    "pycharm": {
     "name": "#%%\n"
    }
   }
  },
  {
   "cell_type": "markdown",
   "source": [
    "### 8.4 Testing"
   ],
   "metadata": {
    "collapsed": false
   }
  },
  {
   "cell_type": "markdown",
   "source": [
    "### 8.5 Prediction driving factors\n",
    "\n",
    "# SHAP diagram\n",
    "\n"
   ],
   "metadata": {
    "collapsed": false,
    "pycharm": {
     "name": "#%% md\n"
    }
   }
  }
 ],
 "metadata": {
  "kernelspec": {
   "display_name": "Python 3",
   "language": "python",
   "name": "python3"
  },
  "language_info": {
   "codemirror_mode": {
    "name": "ipython",
    "version": 2
   },
   "file_extension": ".py",
   "mimetype": "text/x-python",
   "name": "python",
   "nbconvert_exporter": "python",
   "pygments_lexer": "ipython2",
   "version": "2.7.6"
  }
 },
 "nbformat": 4,
 "nbformat_minor": 0
}