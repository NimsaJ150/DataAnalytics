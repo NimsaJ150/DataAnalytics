{
 "cells": [
  {
   "cell_type": "markdown",
   "metadata": {
    "collapsed": true,
    "pycharm": {
     "name": "#%% md\n"
    }
   },
   "source": [
    "TODO: chapter numbers\n",
    "\n",
    "# Data Analysis\n",
    "\n",
    "1. 2019 vs 2020 differences\n",
    "2. Prediction of Severity with traffic data [day, time, state??]\n",
    "\n",
    "---\n",
    "## 1 Imports\n",
    "### 1.1 Libraries"
   ]
  },
  {
   "cell_type": "code",
   "execution_count": 96,
   "outputs": [],
   "source": [
    "import os\n",
    "import pandas as pd\n",
    "import numpy as np\n",
    "import matplotlib.pyplot as plt\n",
    "from sklearn import preprocessing\n",
    "from sklearn.preprocessing import StandardScaler\n",
    "from sklearn.model_selection import train_test_split\n",
    "import seaborn as sns"
   ],
   "metadata": {
    "collapsed": false,
    "pycharm": {
     "name": "#%%\n"
    }
   }
  },
  {
   "cell_type": "markdown",
   "source": [
    "### 1.2 Data"
   ],
   "metadata": {
    "collapsed": false
   }
  },
  {
   "cell_type": "code",
   "execution_count": 114,
   "outputs": [
    {
     "data": {
      "text/plain": "'\\nPATH_HOME = os.getcwd()\\nPATH_DATA = os.path.join(PATH_HOME, \"data\")\\nPATH_OUTPUT = os.path.join(PATH_HOME, \"output\")\\nfilename = os.path.join(PATH_DATA, \"amazon_electronics.json\")\\nif not os.path.exists(filename):\\n    display(\"Reading from URL..\")\\n    df_amz = pd.read_json(\"https://www.dropbox.com/s/o9jxaeax4mascd3/Electronics_5.json?dl=1\", lines = True)\\n    if not os.path.exists(PATH_DATA):\\n        os.mkdir(PATH_DATA)\\n    df_amz.to_pickle(filename)\\n    \\nelse:\\n    display(\"Reading from hard drive..\")\\n    df_amz = pd.read_pickle(filename)\\n\\ndf_amz.head()\\n'"
     },
     "execution_count": 114,
     "metadata": {},
     "output_type": "execute_result"
    }
   ],
   "source": [
    "file_path = './US_Accidents_Dec20_updated.csv'\n",
    "\n",
    "# If file exists\n",
    "if os.path.isfile(file_path):\n",
    "    data_ori = pd.read_csv(file_path)\n",
    "else:\n",
    "    # TODO: insert code to download file\n",
    "    pass\n",
    "\"\"\"\n",
    "PATH_HOME = os.getcwd()\n",
    "PATH_DATA = os.path.join(PATH_HOME, \"data\")\n",
    "PATH_OUTPUT = os.path.join(PATH_HOME, \"output\")\n",
    "filename = os.path.join(PATH_DATA, \"amazon_electronics.json\")\n",
    "if not os.path.exists(filename):\n",
    "    display(\"Reading from URL..\")\n",
    "    df_amz = pd.read_json(\"https://www.dropbox.com/s/o9jxaeax4mascd3/Electronics_5.json?dl=1\", lines = True)\n",
    "    if not os.path.exists(PATH_DATA):\n",
    "        os.mkdir(PATH_DATA)\n",
    "    df_amz.to_pickle(filename)\n",
    "    \n",
    "else:\n",
    "    display(\"Reading from hard drive..\")\n",
    "    df_amz = pd.read_pickle(filename)\n",
    "\n",
    "df_amz.head()\n",
    "\"\"\""
   ],
   "metadata": {
    "collapsed": false,
    "pycharm": {
     "name": "#%%\n"
    }
   }
  },
  {
   "cell_type": "markdown",
   "source": [
    "---\n",
    "## 2 Definitions\n",
   ],
   "metadata": {
    "collapsed": false
   }
  },
  {
   "cell_type": "code",
   "execution_count": 98,
   "outputs": [],
   "source": [
    "column_list = [\n",
    "    'ID',\n",
    "    'Severity',\n",
    "    'Start_Time',\n",
    "    'End_Time',\n",
    "    'Start_Lat',\n",
    "    'Start_Lng',\n",
    "    'End_Lat',\n",
    "    'End_Lng',\n",
    "    'Distance(mi)',\n",
    "    'Description',\n",
    "    'Number',\n",
    "    'Street',\n",
    "    'Side',\n",
    "    'City',\n",
    "    'County',\n",
    "    'State',\n",
    "    'Zipcode',\n",
    "    'Country',\n",
    "    'Timezone',\n",
    "    'Airport_Code',\n",
    "    'Weather_Timestamp',\n",
    "    'Temperature(F)',\n",
    "    'Wind_Chill(F)',\n",
    "    'Humidity(%)',\n",
    "    'Pressure(in)',\n",
    "    'Visibility(mi)',\n",
    "    'Wind_Direction',\n",
    "    'Wind_Speed(mph)',\n",
    "    'Precipitation(in)',\n",
    "    'Weather_Condition',\n",
    "    'Amenity',\n",
    "    'Bump',\n",
    "    'Crossing',\n",
    "    'Give_Way',\n",
    "    'Junction',\n",
    "    'No_Exit',\n",
    "    'Railway',\n",
    "    'Roundabout',\n",
    "    'Station',\n",
    "    'Stop',\n",
    "    'Traffic_Calming',\n",
    "    'Traffic_Signal',\n",
    "    'Turning_Loop',\n",
    "    'Sunrise_Sunset',\n",
    "    'Civil_Twilight',\n",
    "    'Nautical_Twilight',\n",
    "    'Astronomical_Twilight'\n",
    "]\n",
    "\n",
    "numeric_columns = [\n",
    "    'Severity',\n",
    "    'Start_Lat',\n",
    "    'Start_Lng',\n",
    "    'End_Lat',\n",
    "    'End_Lng',\n",
    "    'Distance(mi)',\n",
    "    'Number',\n",
    "    'State',\n",
    "    'Zipcode',\n",
    "    'Temperature(F)',\n",
    "    'Wind_Chill(F)',\n",
    "    'Humidity(%)',\n",
    "    'Pressure(in)',\n",
    "    'Visibility(mi)',\n",
    "    'Wind_Speed(mph)',\n",
    "    'Precipitation(in)'\n",
    "]\n",
    "\n",
    "wind_values = {\n",
    "    'North': 'N',\n",
    "    'South': 'S',\n",
    "    'West': 'W',\n",
    "    'East': 'E',\n",
    "    'Calm': 'CALM',\n",
    "    'Variable': 'VAR',\n",
    "}"
   ],
   "metadata": {
    "collapsed": false,
    "pycharm": {
     "name": "#%%\n"
    }
   }
  },
  {
   "cell_type": "markdown",
   "source": [
    "---\n",
    "## 3 Data Overview"
   ],
   "metadata": {
    "collapsed": false
   }
  },
  {
   "cell_type": "code",
   "execution_count": 99,
   "outputs": [
    {
     "data": {
      "text/plain": "(1516064, 47)"
     },
     "execution_count": 99,
     "metadata": {},
     "output_type": "execute_result"
    }
   ],
   "source": [
    "# Shape of data\n",
    "data_ori.shape"
   ],
   "metadata": {
    "collapsed": false,
    "pycharm": {
     "name": "#%%\n"
    }
   }
  },
  {
   "cell_type": "code",
   "execution_count": 100,
   "outputs": [
    {
     "data": {
      "text/plain": "ID                        object\nSeverity                   int64\nStart_Time                object\nEnd_Time                  object\nStart_Lat                float64\nStart_Lng                float64\nEnd_Lat                  float64\nEnd_Lng                  float64\nDistance(mi)             float64\nDescription               object\nNumber                   float64\nStreet                    object\nSide                      object\nCity                      object\nCounty                    object\nState                     object\nZipcode                   object\nCountry                   object\nTimezone                  object\nAirport_Code              object\nWeather_Timestamp         object\nTemperature(F)           float64\nWind_Chill(F)            float64\nHumidity(%)              float64\nPressure(in)             float64\nVisibility(mi)           float64\nWind_Direction            object\nWind_Speed(mph)          float64\nPrecipitation(in)        float64\nWeather_Condition         object\nAmenity                     bool\nBump                        bool\nCrossing                    bool\nGive_Way                    bool\nJunction                    bool\nNo_Exit                     bool\nRailway                     bool\nRoundabout                  bool\nStation                     bool\nStop                        bool\nTraffic_Calming             bool\nTraffic_Signal              bool\nTurning_Loop                bool\nSunrise_Sunset            object\nCivil_Twilight            object\nNautical_Twilight         object\nAstronomical_Twilight     object\ndtype: object"
     },
     "execution_count": 100,
     "metadata": {},
     "output_type": "execute_result"
    }
   ],
   "source": [
    "# Types\n",
    "data_ori.dtypes\n"
   ],
   "metadata": {
    "collapsed": false,
    "pycharm": {
     "name": "#%%\n"
    }
   }
  },
  {
   "cell_type": "code",
   "execution_count": 101,
   "outputs": [
    {
     "data": {
      "text/plain": "['ID',\n 'Severity',\n 'Start_Time',\n 'End_Time',\n 'Start_Lat',\n 'Start_Lng',\n 'End_Lat',\n 'End_Lng',\n 'Distance(mi)',\n 'Description',\n 'Number',\n 'Street',\n 'Side',\n 'City',\n 'County',\n 'State',\n 'Zipcode',\n 'Country',\n 'Timezone',\n 'Airport_Code',\n 'Weather_Timestamp',\n 'Temperature(F)',\n 'Wind_Chill(F)',\n 'Humidity(%)',\n 'Pressure(in)',\n 'Visibility(mi)',\n 'Wind_Direction',\n 'Wind_Speed(mph)',\n 'Precipitation(in)',\n 'Weather_Condition',\n 'Amenity',\n 'Bump',\n 'Crossing',\n 'Give_Way',\n 'Junction',\n 'No_Exit',\n 'Railway',\n 'Roundabout',\n 'Station',\n 'Stop',\n 'Traffic_Calming',\n 'Traffic_Signal',\n 'Turning_Loop',\n 'Sunrise_Sunset',\n 'Civil_Twilight',\n 'Nautical_Twilight',\n 'Astronomical_Twilight']"
     },
     "execution_count": 101,
     "metadata": {},
     "output_type": "execute_result"
    }
   ],
   "source": [
    "# Features\n",
    "list(data_ori)  # What potential lies in the \"Description\"?"
   ],
   "metadata": {
    "collapsed": false,
    "pycharm": {
     "name": "#%%\n"
    }
   }
  },
  {
   "cell_type": "code",
   "execution_count": 102,
   "outputs": [
    {
     "data": {
      "text/plain": "          ID  Severity           Start_Time             End_Time  Start_Lat  \\\n0  A-2716600         3  2016-02-08 00:37:08  2016-02-08 06:37:08   40.10891   \n1  A-2716601         2  2016-02-08 05:56:20  2016-02-08 11:56:20   39.86542   \n2  A-2716602         2  2016-02-08 06:15:39  2016-02-08 12:15:39   39.10266   \n3  A-2716603         2  2016-02-08 06:15:39  2016-02-08 12:15:39   39.10148   \n4  A-2716604         2  2016-02-08 06:51:45  2016-02-08 12:51:45   41.06213   \n\n   Start_Lng   End_Lat   End_Lng  Distance(mi)  \\\n0  -83.09286  40.11206 -83.03187         3.230   \n1  -84.06280  39.86501 -84.04873         0.747   \n2  -84.52468  39.10209 -84.52396         0.055   \n3  -84.52341  39.09841 -84.52241         0.219   \n4  -81.53784  41.06217 -81.53547         0.123   \n\n                                         Description          ...           \\\n0  Between Sawmill Rd/Exit 20 and OH-315/Olentang...          ...            \n1                 At OH-4/OH-235/Exit 41 - Accident.          ...            \n2                   At I-71/US-50/Exit 1 - Accident.          ...            \n3                   At I-71/US-50/Exit 1 - Accident.          ...            \n4                    At Dart Ave/Exit 21 - Accident.          ...            \n\n   Roundabout Station   Stop Traffic_Calming Traffic_Signal Turning_Loop  \\\n0       False   False  False           False          False        False   \n1       False   False  False           False          False        False   \n2       False   False  False           False          False        False   \n3       False   False  False           False          False        False   \n4       False   False  False           False          False        False   \n\n  Sunrise_Sunset Civil_Twilight Nautical_Twilight Astronomical_Twilight  \n0          Night          Night             Night                 Night  \n1          Night          Night             Night                 Night  \n2          Night          Night             Night                   Day  \n3          Night          Night             Night                   Day  \n4          Night          Night               Day                   Day  \n\n[5 rows x 47 columns]",
      "text/html": "<div>\n<style scoped>\n    .dataframe tbody tr th:only-of-type {\n        vertical-align: middle;\n    }\n\n    .dataframe tbody tr th {\n        vertical-align: top;\n    }\n\n    .dataframe thead th {\n        text-align: right;\n    }\n</style>\n<table border=\"1\" class=\"dataframe\">\n  <thead>\n    <tr style=\"text-align: right;\">\n      <th></th>\n      <th>ID</th>\n      <th>Severity</th>\n      <th>Start_Time</th>\n      <th>End_Time</th>\n      <th>Start_Lat</th>\n      <th>Start_Lng</th>\n      <th>End_Lat</th>\n      <th>End_Lng</th>\n      <th>Distance(mi)</th>\n      <th>Description</th>\n      <th>...</th>\n      <th>Roundabout</th>\n      <th>Station</th>\n      <th>Stop</th>\n      <th>Traffic_Calming</th>\n      <th>Traffic_Signal</th>\n      <th>Turning_Loop</th>\n      <th>Sunrise_Sunset</th>\n      <th>Civil_Twilight</th>\n      <th>Nautical_Twilight</th>\n      <th>Astronomical_Twilight</th>\n    </tr>\n  </thead>\n  <tbody>\n    <tr>\n      <th>0</th>\n      <td>A-2716600</td>\n      <td>3</td>\n      <td>2016-02-08 00:37:08</td>\n      <td>2016-02-08 06:37:08</td>\n      <td>40.10891</td>\n      <td>-83.09286</td>\n      <td>40.11206</td>\n      <td>-83.03187</td>\n      <td>3.230</td>\n      <td>Between Sawmill Rd/Exit 20 and OH-315/Olentang...</td>\n      <td>...</td>\n      <td>False</td>\n      <td>False</td>\n      <td>False</td>\n      <td>False</td>\n      <td>False</td>\n      <td>False</td>\n      <td>Night</td>\n      <td>Night</td>\n      <td>Night</td>\n      <td>Night</td>\n    </tr>\n    <tr>\n      <th>1</th>\n      <td>A-2716601</td>\n      <td>2</td>\n      <td>2016-02-08 05:56:20</td>\n      <td>2016-02-08 11:56:20</td>\n      <td>39.86542</td>\n      <td>-84.06280</td>\n      <td>39.86501</td>\n      <td>-84.04873</td>\n      <td>0.747</td>\n      <td>At OH-4/OH-235/Exit 41 - Accident.</td>\n      <td>...</td>\n      <td>False</td>\n      <td>False</td>\n      <td>False</td>\n      <td>False</td>\n      <td>False</td>\n      <td>False</td>\n      <td>Night</td>\n      <td>Night</td>\n      <td>Night</td>\n      <td>Night</td>\n    </tr>\n    <tr>\n      <th>2</th>\n      <td>A-2716602</td>\n      <td>2</td>\n      <td>2016-02-08 06:15:39</td>\n      <td>2016-02-08 12:15:39</td>\n      <td>39.10266</td>\n      <td>-84.52468</td>\n      <td>39.10209</td>\n      <td>-84.52396</td>\n      <td>0.055</td>\n      <td>At I-71/US-50/Exit 1 - Accident.</td>\n      <td>...</td>\n      <td>False</td>\n      <td>False</td>\n      <td>False</td>\n      <td>False</td>\n      <td>False</td>\n      <td>False</td>\n      <td>Night</td>\n      <td>Night</td>\n      <td>Night</td>\n      <td>Day</td>\n    </tr>\n    <tr>\n      <th>3</th>\n      <td>A-2716603</td>\n      <td>2</td>\n      <td>2016-02-08 06:15:39</td>\n      <td>2016-02-08 12:15:39</td>\n      <td>39.10148</td>\n      <td>-84.52341</td>\n      <td>39.09841</td>\n      <td>-84.52241</td>\n      <td>0.219</td>\n      <td>At I-71/US-50/Exit 1 - Accident.</td>\n      <td>...</td>\n      <td>False</td>\n      <td>False</td>\n      <td>False</td>\n      <td>False</td>\n      <td>False</td>\n      <td>False</td>\n      <td>Night</td>\n      <td>Night</td>\n      <td>Night</td>\n      <td>Day</td>\n    </tr>\n    <tr>\n      <th>4</th>\n      <td>A-2716604</td>\n      <td>2</td>\n      <td>2016-02-08 06:51:45</td>\n      <td>2016-02-08 12:51:45</td>\n      <td>41.06213</td>\n      <td>-81.53784</td>\n      <td>41.06217</td>\n      <td>-81.53547</td>\n      <td>0.123</td>\n      <td>At Dart Ave/Exit 21 - Accident.</td>\n      <td>...</td>\n      <td>False</td>\n      <td>False</td>\n      <td>False</td>\n      <td>False</td>\n      <td>False</td>\n      <td>False</td>\n      <td>Night</td>\n      <td>Night</td>\n      <td>Day</td>\n      <td>Day</td>\n    </tr>\n  </tbody>\n</table>\n<p>5 rows × 47 columns</p>\n</div>"
     },
     "execution_count": 102,
     "metadata": {},
     "output_type": "execute_result"
    }
   ],
   "source": [
    "# Head\n",
    "data_ori.head()"
   ],
   "metadata": {
    "collapsed": false,
    "pycharm": {
     "name": "#%%\n"
    }
   }
  },
  {
   "cell_type": "code",
   "execution_count": 103,
   "outputs": [
    {
     "data": {
      "text/plain": "           Severity     Start_Lat     Start_Lng       End_Lat       End_Lng  \\\ncount  1.516064e+06  1.516064e+06  1.516064e+06  1.516064e+06  1.516064e+06   \nmean   2.238630e+00  3.690056e+01 -9.859919e+01  3.690061e+01 -9.859901e+01   \nstd    6.081481e-01  5.165653e+00  1.849602e+01  5.165629e+00  1.849590e+01   \nmin    1.000000e+00  2.457022e+01 -1.244976e+02  2.457011e+01 -1.244978e+02   \n25%    2.000000e+00  3.385422e+01 -1.182076e+02  3.385420e+01 -1.182077e+02   \n50%    2.000000e+00  3.735113e+01 -9.438100e+01  3.735134e+01 -9.437987e+01   \n75%    2.000000e+00  4.072593e+01 -8.087469e+01  4.072593e+01 -8.087449e+01   \nmax    4.000000e+00  4.900058e+01 -6.711317e+01  4.907500e+01 -6.710924e+01   \n\n       Distance(mi)        Number  Temperature(F)  Wind_Chill(F)  \\\ncount  1.516064e+06  4.699690e+05    1.473031e+06   1.066748e+06   \nmean   5.872617e-01  8.907533e+03    5.958460e+01   5.510976e+01   \nstd    1.632659e+00  2.242190e+04    1.827316e+01   2.112735e+01   \nmin    0.000000e+00  0.000000e+00   -8.900000e+01  -8.900000e+01   \n25%    0.000000e+00  1.212000e+03    4.700000e+01   4.080000e+01   \n50%    1.780000e-01  4.000000e+03    6.100000e+01   5.700000e+01   \n75%    5.940000e-01  1.010000e+04    7.300000e+01   7.100000e+01   \nmax    1.551860e+02  9.999997e+06    1.706000e+02   1.130000e+02   \n\n        Humidity(%)  Pressure(in)  Visibility(mi)  Wind_Speed(mph)  \\\ncount  1.470555e+06  1.479790e+06    1.471853e+06     1.387202e+06   \nmean   6.465960e+01  2.955495e+01    9.131755e+00     7.630812e+00   \nstd    2.325986e+01  1.016756e+00    2.889112e+00     5.637364e+00   \nmin    1.000000e+00  0.000000e+00    0.000000e+00     0.000000e+00   \n25%    4.800000e+01  2.944000e+01    1.000000e+01     4.600000e+00   \n50%    6.800000e+01  2.988000e+01    1.000000e+01     7.000000e+00   \n75%    8.400000e+01  3.004000e+01    1.000000e+01     1.040000e+01   \nmax    1.000000e+02  5.804000e+01    1.400000e+02     9.840000e+02   \n\n       Precipitation(in)  \ncount       1.005515e+06  \nmean        8.477855e-03  \nstd         1.293168e-01  \nmin         0.000000e+00  \n25%         0.000000e+00  \n50%         0.000000e+00  \n75%         0.000000e+00  \nmax         2.400000e+01  ",
      "text/html": "<div>\n<style scoped>\n    .dataframe tbody tr th:only-of-type {\n        vertical-align: middle;\n    }\n\n    .dataframe tbody tr th {\n        vertical-align: top;\n    }\n\n    .dataframe thead th {\n        text-align: right;\n    }\n</style>\n<table border=\"1\" class=\"dataframe\">\n  <thead>\n    <tr style=\"text-align: right;\">\n      <th></th>\n      <th>Severity</th>\n      <th>Start_Lat</th>\n      <th>Start_Lng</th>\n      <th>End_Lat</th>\n      <th>End_Lng</th>\n      <th>Distance(mi)</th>\n      <th>Number</th>\n      <th>Temperature(F)</th>\n      <th>Wind_Chill(F)</th>\n      <th>Humidity(%)</th>\n      <th>Pressure(in)</th>\n      <th>Visibility(mi)</th>\n      <th>Wind_Speed(mph)</th>\n      <th>Precipitation(in)</th>\n    </tr>\n  </thead>\n  <tbody>\n    <tr>\n      <th>count</th>\n      <td>1.516064e+06</td>\n      <td>1.516064e+06</td>\n      <td>1.516064e+06</td>\n      <td>1.516064e+06</td>\n      <td>1.516064e+06</td>\n      <td>1.516064e+06</td>\n      <td>4.699690e+05</td>\n      <td>1.473031e+06</td>\n      <td>1.066748e+06</td>\n      <td>1.470555e+06</td>\n      <td>1.479790e+06</td>\n      <td>1.471853e+06</td>\n      <td>1.387202e+06</td>\n      <td>1.005515e+06</td>\n    </tr>\n    <tr>\n      <th>mean</th>\n      <td>2.238630e+00</td>\n      <td>3.690056e+01</td>\n      <td>-9.859919e+01</td>\n      <td>3.690061e+01</td>\n      <td>-9.859901e+01</td>\n      <td>5.872617e-01</td>\n      <td>8.907533e+03</td>\n      <td>5.958460e+01</td>\n      <td>5.510976e+01</td>\n      <td>6.465960e+01</td>\n      <td>2.955495e+01</td>\n      <td>9.131755e+00</td>\n      <td>7.630812e+00</td>\n      <td>8.477855e-03</td>\n    </tr>\n    <tr>\n      <th>std</th>\n      <td>6.081481e-01</td>\n      <td>5.165653e+00</td>\n      <td>1.849602e+01</td>\n      <td>5.165629e+00</td>\n      <td>1.849590e+01</td>\n      <td>1.632659e+00</td>\n      <td>2.242190e+04</td>\n      <td>1.827316e+01</td>\n      <td>2.112735e+01</td>\n      <td>2.325986e+01</td>\n      <td>1.016756e+00</td>\n      <td>2.889112e+00</td>\n      <td>5.637364e+00</td>\n      <td>1.293168e-01</td>\n    </tr>\n    <tr>\n      <th>min</th>\n      <td>1.000000e+00</td>\n      <td>2.457022e+01</td>\n      <td>-1.244976e+02</td>\n      <td>2.457011e+01</td>\n      <td>-1.244978e+02</td>\n      <td>0.000000e+00</td>\n      <td>0.000000e+00</td>\n      <td>-8.900000e+01</td>\n      <td>-8.900000e+01</td>\n      <td>1.000000e+00</td>\n      <td>0.000000e+00</td>\n      <td>0.000000e+00</td>\n      <td>0.000000e+00</td>\n      <td>0.000000e+00</td>\n    </tr>\n    <tr>\n      <th>25%</th>\n      <td>2.000000e+00</td>\n      <td>3.385422e+01</td>\n      <td>-1.182076e+02</td>\n      <td>3.385420e+01</td>\n      <td>-1.182077e+02</td>\n      <td>0.000000e+00</td>\n      <td>1.212000e+03</td>\n      <td>4.700000e+01</td>\n      <td>4.080000e+01</td>\n      <td>4.800000e+01</td>\n      <td>2.944000e+01</td>\n      <td>1.000000e+01</td>\n      <td>4.600000e+00</td>\n      <td>0.000000e+00</td>\n    </tr>\n    <tr>\n      <th>50%</th>\n      <td>2.000000e+00</td>\n      <td>3.735113e+01</td>\n      <td>-9.438100e+01</td>\n      <td>3.735134e+01</td>\n      <td>-9.437987e+01</td>\n      <td>1.780000e-01</td>\n      <td>4.000000e+03</td>\n      <td>6.100000e+01</td>\n      <td>5.700000e+01</td>\n      <td>6.800000e+01</td>\n      <td>2.988000e+01</td>\n      <td>1.000000e+01</td>\n      <td>7.000000e+00</td>\n      <td>0.000000e+00</td>\n    </tr>\n    <tr>\n      <th>75%</th>\n      <td>2.000000e+00</td>\n      <td>4.072593e+01</td>\n      <td>-8.087469e+01</td>\n      <td>4.072593e+01</td>\n      <td>-8.087449e+01</td>\n      <td>5.940000e-01</td>\n      <td>1.010000e+04</td>\n      <td>7.300000e+01</td>\n      <td>7.100000e+01</td>\n      <td>8.400000e+01</td>\n      <td>3.004000e+01</td>\n      <td>1.000000e+01</td>\n      <td>1.040000e+01</td>\n      <td>0.000000e+00</td>\n    </tr>\n    <tr>\n      <th>max</th>\n      <td>4.000000e+00</td>\n      <td>4.900058e+01</td>\n      <td>-6.711317e+01</td>\n      <td>4.907500e+01</td>\n      <td>-6.710924e+01</td>\n      <td>1.551860e+02</td>\n      <td>9.999997e+06</td>\n      <td>1.706000e+02</td>\n      <td>1.130000e+02</td>\n      <td>1.000000e+02</td>\n      <td>5.804000e+01</td>\n      <td>1.400000e+02</td>\n      <td>9.840000e+02</td>\n      <td>2.400000e+01</td>\n    </tr>\n  </tbody>\n</table>\n</div>"
     },
     "execution_count": 103,
     "metadata": {},
     "output_type": "execute_result"
    }
   ],
   "source": [
    "# Descriptions\n",
    "data_ori.describe()"
   ],
   "metadata": {
    "collapsed": false,
    "pycharm": {
     "name": "#%%\n"
    }
   }
  },
  {
   "cell_type": "markdown",
   "source": [
    "---\n",
    "## 5 Data Cleaning\n",
    "\n",
    "Number, Temperature(F)\tWind_Chill(F)\tHumidity(%)\tPressure(in)\tVisibility(mi)\tWind_Speed(mph)\tPrecipitation(in)"
   ],
   "metadata": {
    "collapsed": false,
    "pycharm": {
     "name": "#%% md\n"
    }
   }
  },
  {
   "cell_type": "code",
   "execution_count": 94,
   "outputs": [
    {
     "name": "stdout",
     "output_type": "stream",
     "text": [
      "A-2716600    1\n",
      "A-2716601    1\n",
      "A-2716602    1\n",
      "A-2716603    1\n",
      "A-2716604    1\n",
      "A-2716605    1\n",
      "A-2716606    1\n",
      "A-2716607    1\n",
      "A-2716608    1\n",
      "A-2716609    1\n",
      "A-2716610    1\n",
      "A-2716611    1\n",
      "A-2716612    1\n",
      "A-2716613    1\n",
      "A-2716614    1\n",
      "A-2716615    1\n",
      "A-2716616    1\n",
      "A-2716617    1\n",
      "A-2716618    1\n",
      "A-2716619    1\n",
      "A-2716620    1\n",
      "A-2716621    1\n",
      "A-2716622    1\n",
      "A-2716623    1\n",
      "A-2716624    1\n",
      "A-2716625    1\n",
      "A-2716626    1\n",
      "A-2716627    1\n",
      "A-2716628    1\n",
      "A-2716629    1\n",
      "            ..\n",
      "A-4239377    1\n",
      "A-4239378    1\n",
      "A-4239379    1\n",
      "A-4239380    1\n",
      "A-4239381    1\n",
      "A-4239382    1\n",
      "A-4239383    1\n",
      "A-4239384    1\n",
      "A-4239385    1\n",
      "A-4239386    1\n",
      "A-4239387    1\n",
      "A-4239388    1\n",
      "A-4239389    1\n",
      "A-4239390    1\n",
      "A-4239391    1\n",
      "A-4239392    1\n",
      "A-4239393    1\n",
      "A-4239394    1\n",
      "A-4239395    1\n",
      "A-4239396    1\n",
      "A-4239397    1\n",
      "A-4239398    1\n",
      "A-4239399    1\n",
      "A-4239400    1\n",
      "A-4239401    1\n",
      "A-4239402    1\n",
      "A-4239403    1\n",
      "A-4239404    1\n",
      "A-4239405    1\n",
      "A-4239406    1\n",
      "Name: ID, Length: 1516053, dtype: int64 \n",
      "\n",
      "1      28178\n",
      "2    1212373\n",
      "3     161051\n",
      "4     114451\n",
      "Name: Severity, dtype: int64 \n",
      "\n",
      "2016-02-08 00:37:08    1\n",
      "2016-02-08 05:56:20    1\n",
      "2016-02-08 06:15:39    2\n",
      "2016-02-08 06:51:45    1\n",
      "2016-02-08 07:53:43    1\n",
      "2016-02-08 08:15:41    1\n",
      "2016-02-08 08:16:57    2\n",
      "2016-02-08 11:51:46    1\n",
      "2016-02-08 14:19:57    1\n",
      "2016-02-08 15:16:43    1\n",
      "2016-02-08 15:43:50    1\n",
      "2016-02-08 16:50:57    1\n",
      "2016-02-08 17:27:39    1\n",
      "2016-02-08 17:30:18    1\n",
      "2016-02-08 18:11:11    2\n",
      "2016-02-08 19:47:42    2\n",
      "2016-02-08 20:13:22    1\n",
      "2016-02-08 21:00:17    1\n",
      "2016-02-08 21:10:10    1\n",
      "2016-02-08 21:30:31    1\n",
      "2016-02-09 05:54:01    1\n",
      "2016-02-09 06:10:59    1\n",
      "2016-02-09 06:46:32    1\n",
      "2016-02-09 07:18:10    1\n",
      "2016-02-09 07:25:40    1\n",
      "2016-02-09 07:28:15    1\n",
      "2016-02-09 07:44:49    1\n",
      "2016-02-09 07:48:40    2\n",
      "2016-02-09 08:00:16    1\n",
      "2016-02-09 08:02:55    1\n",
      "                      ..\n",
      "2020-12-31 22:28:32    2\n",
      "2020-12-31 22:28:45    1\n",
      "2020-12-31 22:29:00    2\n",
      "2020-12-31 22:29:15    1\n",
      "2020-12-31 22:30:19    1\n",
      "2020-12-31 22:31:00    7\n",
      "2020-12-31 22:32:00    3\n",
      "2020-12-31 22:32:18    2\n",
      "2020-12-31 22:33:00    2\n",
      "2020-12-31 22:33:07    2\n",
      "2020-12-31 22:33:47    1\n",
      "2020-12-31 22:34:30    1\n",
      "2020-12-31 22:36:02    2\n",
      "2020-12-31 22:37:02    2\n",
      "2020-12-31 22:38:00    3\n",
      "2020-12-31 22:38:03    2\n",
      "2020-12-31 22:39:03    2\n",
      "2020-12-31 22:39:08    2\n",
      "2020-12-31 22:39:22    2\n",
      "2020-12-31 22:40:00    2\n",
      "2020-12-31 22:41:12    1\n",
      "2020-12-31 22:41:39    1\n",
      "2020-12-31 22:42:20    1\n",
      "2020-12-31 22:43:30    1\n",
      "2020-12-31 22:44:15    2\n",
      "2020-12-31 22:44:34    1\n",
      "2020-12-31 22:46:30    1\n",
      "2020-12-31 22:49:31    1\n",
      "2020-12-31 22:51:32    2\n",
      "2020-12-31 23:28:56    1\n",
      "Name: Start_Time, Length: 1014158, dtype: int64 \n",
      "\n",
      "2016-02-08 06:37:08               1\n",
      "2016-02-08 11:56:20               1\n",
      "2016-02-08 12:15:39               2\n",
      "2016-02-08 12:51:45               1\n",
      "2016-02-08 13:53:43               1\n",
      "2016-02-08 14:15:41               1\n",
      "2016-02-08 14:16:57               2\n",
      "2016-02-08 17:51:46               1\n",
      "2016-02-08 20:19:57               1\n",
      "2016-02-08 21:16:43               1\n",
      "2016-02-08 21:43:50               1\n",
      "2016-02-08 22:50:57               1\n",
      "2016-02-08 23:27:39               1\n",
      "2016-02-08 23:30:18               1\n",
      "2016-02-09 00:11:11               2\n",
      "2016-02-09 01:47:42               2\n",
      "2016-02-09 02:13:22               1\n",
      "2016-02-09 03:00:17               1\n",
      "2016-02-09 03:10:10               1\n",
      "2016-02-09 03:30:31               1\n",
      "2016-02-09 11:54:01               1\n",
      "2016-02-09 12:10:59               1\n",
      "2016-02-09 12:46:32               1\n",
      "2016-02-09 13:18:10               1\n",
      "2016-02-09 13:25:40               1\n",
      "2016-02-09 13:28:15               1\n",
      "2016-02-09 13:44:49               1\n",
      "2016-02-09 13:48:40               2\n",
      "2016-02-09 14:00:16               1\n",
      "2016-02-09 14:02:55               1\n",
      "                                 ..\n",
      "2020-12-31 23:55:01               2\n",
      "2020-12-31 23:55:02               1\n",
      "2020-12-31 23:55:30               1\n",
      "2020-12-31 23:55:49               2\n",
      "2020-12-31 23:56:10               1\n",
      "2020-12-31 23:56:30               2\n",
      "2020-12-31 23:56:37               4\n",
      "2020-12-31 23:56:39               1\n",
      "2020-12-31 23:56:41               2\n",
      "2020-12-31 23:56:42               2\n",
      "2020-12-31 23:56:46               2\n",
      "2020-12-31 23:57:21.000000000     1\n",
      "2020-12-31 23:57:54               2\n",
      "2020-12-31 23:58:10               2\n",
      "2020-12-31 23:58:11.000000000     1\n",
      "2020-12-31 23:58:12               1\n",
      "2020-12-31 23:58:21               7\n",
      "2020-12-31 23:58:24               1\n",
      "2020-12-31 23:58:26               2\n",
      "2020-12-31 23:58:27               2\n",
      "2020-12-31 23:58:30              11\n",
      "2020-12-31 23:59:11               1\n",
      "2020-12-31 23:59:15               2\n",
      "2020-12-31 23:59:20               2\n",
      "2020-12-31 23:59:20.000000000     1\n",
      "2020-12-31 23:59:37               4\n",
      "2020-12-31 23:59:41               2\n",
      "2020-12-31 23:59:42               1\n",
      "2020-12-31 23:59:47.000000000     1\n",
      "2021-01-01 00:00:00               2\n",
      "Name: End_Time, Length: 1161404, dtype: int64 \n",
      "\n",
      "24.570222    1\n",
      "24.570584    1\n",
      "24.571202    3\n",
      "24.571240    1\n",
      "24.571308    1\n",
      "24.571310    1\n",
      "24.571536    1\n",
      "24.571999    1\n",
      "24.574326    2\n",
      "24.574730    1\n",
      "24.574762    1\n",
      "24.574811    1\n",
      "24.575237    1\n",
      "24.577410    2\n",
      "24.586250    1\n",
      "24.588543    1\n",
      "24.590809    1\n",
      "24.591570    1\n",
      "24.593747    2\n",
      "24.594563    1\n",
      "24.595771    1\n",
      "24.602669    1\n",
      "24.603227    2\n",
      "24.623188    1\n",
      "24.624000    1\n",
      "24.624298    5\n",
      "24.643370    1\n",
      "24.644942    1\n",
      "24.645530    1\n",
      "24.646915    2\n",
      "            ..\n",
      "48.972661    1\n",
      "48.972705    2\n",
      "48.973940    1\n",
      "48.974808    1\n",
      "48.974872    1\n",
      "48.975220    1\n",
      "48.984040    1\n",
      "48.984560    2\n",
      "48.984720    1\n",
      "48.985030    1\n",
      "48.986040    1\n",
      "48.987453    1\n",
      "48.989785    1\n",
      "48.990205    1\n",
      "48.990560    8\n",
      "48.990823    1\n",
      "48.991144    1\n",
      "48.991585    1\n",
      "48.992530    1\n",
      "48.993330    3\n",
      "48.993651    2\n",
      "48.993836    1\n",
      "48.993864    2\n",
      "48.994000    3\n",
      "48.996014    1\n",
      "48.998380    1\n",
      "48.999510    1\n",
      "49.000260    1\n",
      "49.000560    1\n",
      "49.000580    1\n",
      "Name: Start_Lat, Length: 590609, dtype: int64 \n",
      "\n",
      "-124.497567    2\n",
      "-124.497523    1\n",
      "-124.497470    1\n",
      "-124.497448    1\n",
      "-124.497438    1\n",
      "-124.497420    5\n",
      "-124.497410    1\n",
      "-124.497357    1\n",
      "-124.497228    1\n",
      "-124.496920    1\n",
      "-124.495510    1\n",
      "-124.494390    1\n",
      "-124.494294    4\n",
      "-124.489465    1\n",
      "-124.489000    1\n",
      "-124.486949    1\n",
      "-124.486270    2\n",
      "-124.485996    1\n",
      "-124.485864    3\n",
      "-124.484680    1\n",
      "-124.484400    1\n",
      "-124.483021    3\n",
      "-124.482900    3\n",
      "-124.482890    1\n",
      "-124.482250    1\n",
      "-124.482110    3\n",
      "-124.482043    1\n",
      "-124.482000    1\n",
      "-124.481997    2\n",
      "-124.481890    1\n",
      "              ..\n",
      "-68.068310     2\n",
      "-68.042840     1\n",
      "-68.042680     1\n",
      "-68.001360     1\n",
      "-67.994410     1\n",
      "-67.959270     1\n",
      "-67.936704     1\n",
      "-67.903005     1\n",
      "-67.868490     1\n",
      "-67.868380     1\n",
      "-67.867673     1\n",
      "-67.866760     1\n",
      "-67.849870     1\n",
      "-67.849851     1\n",
      "-67.843590     1\n",
      "-67.842900     1\n",
      "-67.842169     1\n",
      "-67.842149     1\n",
      "-67.841889     1\n",
      "-67.840204     1\n",
      "-67.787340     1\n",
      "-67.739696     1\n",
      "-67.703370     1\n",
      "-67.626576     1\n",
      "-67.614387     1\n",
      "-67.606875     1\n",
      "-67.606864     1\n",
      "-67.484130     1\n",
      "-67.403551     1\n",
      "-67.113167     1\n",
      "Name: Start_Lng, Length: 603368, dtype: int64 \n",
      "\n",
      "24.570110    1\n",
      "24.570180    1\n",
      "24.570360    1\n",
      "24.571240    1\n",
      "24.571309    1\n",
      "24.571389    1\n",
      "24.571390    1\n",
      "24.571534    1\n",
      "24.572180    1\n",
      "24.574326    1\n",
      "24.574505    1\n",
      "24.574546    2\n",
      "24.574625    1\n",
      "24.575237    1\n",
      "24.576882    2\n",
      "24.583640    1\n",
      "24.587610    1\n",
      "24.588931    1\n",
      "24.593100    1\n",
      "24.593746    1\n",
      "24.595771    2\n",
      "24.595842    1\n",
      "24.599221    1\n",
      "24.599864    1\n",
      "24.603238    5\n",
      "24.623188    1\n",
      "24.624000    1\n",
      "24.624287    2\n",
      "24.645493    1\n",
      "24.645530    2\n",
      "            ..\n",
      "48.972661    1\n",
      "48.974808    1\n",
      "48.974872    1\n",
      "48.978122    1\n",
      "48.981950    2\n",
      "48.983510    1\n",
      "48.984560    1\n",
      "48.984665    2\n",
      "48.986029    1\n",
      "48.986040    1\n",
      "48.990560    8\n",
      "48.991585    1\n",
      "48.992253    1\n",
      "48.993070    1\n",
      "48.993330    3\n",
      "48.993578    1\n",
      "48.993881    1\n",
      "48.993995    1\n",
      "48.994000    1\n",
      "48.995108    2\n",
      "48.995970    1\n",
      "48.997334    2\n",
      "48.998901    1\n",
      "48.998990    1\n",
      "48.999280    1\n",
      "48.999922    1\n",
      "49.000560    1\n",
      "49.000760    3\n",
      "49.002140    1\n",
      "49.075000    1\n",
      "Name: End_Lat, Length: 587822, dtype: int64 \n",
      "\n",
      "-124.497829    1\n",
      "-124.497478    2\n",
      "-124.497470    1\n",
      "-124.497442    1\n",
      "-124.497438    1\n",
      "-124.497419    5\n",
      "-124.497410    1\n",
      "-124.497357    1\n",
      "-124.496920    1\n",
      "-124.496894    1\n",
      "-124.495510    1\n",
      "-124.494390    1\n",
      "-124.494360    4\n",
      "-124.490620    1\n",
      "-124.489000    1\n",
      "-124.488607    1\n",
      "-124.488161    1\n",
      "-124.487068    3\n",
      "-124.486932    1\n",
      "-124.486270    2\n",
      "-124.484680    1\n",
      "-124.484400    1\n",
      "-124.483050    2\n",
      "-124.483021    2\n",
      "-124.482900    3\n",
      "-124.482890    1\n",
      "-124.482798    3\n",
      "-124.482110    2\n",
      "-124.482100    1\n",
      "-124.482042    2\n",
      "              ..\n",
      "-68.109145     1\n",
      "-68.052043     1\n",
      "-68.042840     1\n",
      "-68.001360     1\n",
      "-67.994410     1\n",
      "-67.923884     1\n",
      "-67.896316     1\n",
      "-67.882408     1\n",
      "-67.868490     1\n",
      "-67.868380     1\n",
      "-67.867369     1\n",
      "-67.866760     1\n",
      "-67.849870     1\n",
      "-67.849851     1\n",
      "-67.843434     1\n",
      "-67.842853     1\n",
      "-67.842169     1\n",
      "-67.841889     1\n",
      "-67.840848     1\n",
      "-67.840110     1\n",
      "-67.787340     1\n",
      "-67.739817     1\n",
      "-67.706448     1\n",
      "-67.626605     1\n",
      "-67.626576     1\n",
      "-67.620340     1\n",
      "-67.606864     1\n",
      "-67.484130     1\n",
      "-67.403550     1\n",
      "-67.109242     1\n",
      "Name: End_Lng, Length: 599915, dtype: int64 \n",
      "\n"
     ]
    },
    {
     "ename": "KeyError",
     "evalue": "'Distance(mi)'",
     "output_type": "error",
     "traceback": [
      "\u001B[0;31m---------------------------------------------------------------------------\u001B[0m",
      "\u001B[0;31mKeyError\u001B[0m                                  Traceback (most recent call last)",
      "\u001B[0;32m~/opt/anaconda3/envs/DataAnalytics/lib/python3.6/site-packages/pandas/core/indexes/base.py\u001B[0m in \u001B[0;36mget_loc\u001B[0;34m(self, key, method, tolerance)\u001B[0m\n\u001B[1;32m   3077\u001B[0m             \u001B[0;32mtry\u001B[0m\u001B[0;34m:\u001B[0m\u001B[0;34m\u001B[0m\u001B[0;34m\u001B[0m\u001B[0m\n\u001B[0;32m-> 3078\u001B[0;31m                 \u001B[0;32mreturn\u001B[0m \u001B[0mself\u001B[0m\u001B[0;34m.\u001B[0m\u001B[0m_engine\u001B[0m\u001B[0;34m.\u001B[0m\u001B[0mget_loc\u001B[0m\u001B[0;34m(\u001B[0m\u001B[0mkey\u001B[0m\u001B[0;34m)\u001B[0m\u001B[0;34m\u001B[0m\u001B[0;34m\u001B[0m\u001B[0m\n\u001B[0m\u001B[1;32m   3079\u001B[0m             \u001B[0;32mexcept\u001B[0m \u001B[0mKeyError\u001B[0m\u001B[0;34m:\u001B[0m\u001B[0;34m\u001B[0m\u001B[0;34m\u001B[0m\u001B[0m\n",
      "\u001B[0;32mpandas/_libs/index.pyx\u001B[0m in \u001B[0;36mpandas._libs.index.IndexEngine.get_loc\u001B[0;34m()\u001B[0m\n",
      "\u001B[0;32mpandas/_libs/index.pyx\u001B[0m in \u001B[0;36mpandas._libs.index.IndexEngine.get_loc\u001B[0;34m()\u001B[0m\n",
      "\u001B[0;32mpandas/_libs/hashtable_class_helper.pxi\u001B[0m in \u001B[0;36mpandas._libs.hashtable.PyObjectHashTable.get_item\u001B[0;34m()\u001B[0m\n",
      "\u001B[0;32mpandas/_libs/hashtable_class_helper.pxi\u001B[0m in \u001B[0;36mpandas._libs.hashtable.PyObjectHashTable.get_item\u001B[0;34m()\u001B[0m\n",
      "\u001B[0;31mKeyError\u001B[0m: 'Distance(mi)'",
      "\nDuring handling of the above exception, another exception occurred:\n",
      "\u001B[0;31mKeyError\u001B[0m                                  Traceback (most recent call last)",
      "\u001B[0;32m<ipython-input-94-755784c8252f>\u001B[0m in \u001B[0;36m<module>\u001B[0;34m\u001B[0m\n\u001B[1;32m      1\u001B[0m \u001B[0;31m# display all value counts -> length: counts unique values\u001B[0m\u001B[0;34m\u001B[0m\u001B[0;34m\u001B[0m\u001B[0;34m\u001B[0m\u001B[0m\n\u001B[1;32m      2\u001B[0m \u001B[0;32mfor\u001B[0m \u001B[0mcolumn\u001B[0m \u001B[0;32min\u001B[0m \u001B[0mcolumn_list\u001B[0m\u001B[0;34m:\u001B[0m  \u001B[0;31m# list of columns\u001B[0m\u001B[0;34m\u001B[0m\u001B[0;34m\u001B[0m\u001B[0m\n\u001B[0;32m----> 3\u001B[0;31m     \u001B[0mprint\u001B[0m\u001B[0;34m(\u001B[0m\u001B[0mdata_ori\u001B[0m\u001B[0;34m[\u001B[0m\u001B[0mcolumn\u001B[0m\u001B[0;34m]\u001B[0m\u001B[0;34m.\u001B[0m\u001B[0mvalue_counts\u001B[0m\u001B[0;34m(\u001B[0m\u001B[0;34m)\u001B[0m\u001B[0;34m.\u001B[0m\u001B[0msort_index\u001B[0m\u001B[0;34m(\u001B[0m\u001B[0;34m)\u001B[0m\u001B[0;34m,\u001B[0m \u001B[0;34m\"\\n\"\u001B[0m\u001B[0;34m)\u001B[0m\u001B[0;34m\u001B[0m\u001B[0;34m\u001B[0m\u001B[0m\n\u001B[0m\u001B[1;32m      4\u001B[0m \u001B[0;34m\u001B[0m\u001B[0m\n\u001B[1;32m      5\u001B[0m \u001B[0;34m\u001B[0m\u001B[0m\n",
      "\u001B[0;32m~/opt/anaconda3/envs/DataAnalytics/lib/python3.6/site-packages/pandas/core/frame.py\u001B[0m in \u001B[0;36m__getitem__\u001B[0;34m(self, key)\u001B[0m\n\u001B[1;32m   2686\u001B[0m             \u001B[0;32mreturn\u001B[0m \u001B[0mself\u001B[0m\u001B[0;34m.\u001B[0m\u001B[0m_getitem_multilevel\u001B[0m\u001B[0;34m(\u001B[0m\u001B[0mkey\u001B[0m\u001B[0;34m)\u001B[0m\u001B[0;34m\u001B[0m\u001B[0;34m\u001B[0m\u001B[0m\n\u001B[1;32m   2687\u001B[0m         \u001B[0;32melse\u001B[0m\u001B[0;34m:\u001B[0m\u001B[0;34m\u001B[0m\u001B[0;34m\u001B[0m\u001B[0m\n\u001B[0;32m-> 2688\u001B[0;31m             \u001B[0;32mreturn\u001B[0m \u001B[0mself\u001B[0m\u001B[0;34m.\u001B[0m\u001B[0m_getitem_column\u001B[0m\u001B[0;34m(\u001B[0m\u001B[0mkey\u001B[0m\u001B[0;34m)\u001B[0m\u001B[0;34m\u001B[0m\u001B[0;34m\u001B[0m\u001B[0m\n\u001B[0m\u001B[1;32m   2689\u001B[0m \u001B[0;34m\u001B[0m\u001B[0m\n\u001B[1;32m   2690\u001B[0m     \u001B[0;32mdef\u001B[0m \u001B[0m_getitem_column\u001B[0m\u001B[0;34m(\u001B[0m\u001B[0mself\u001B[0m\u001B[0;34m,\u001B[0m \u001B[0mkey\u001B[0m\u001B[0;34m)\u001B[0m\u001B[0;34m:\u001B[0m\u001B[0;34m\u001B[0m\u001B[0;34m\u001B[0m\u001B[0m\n",
      "\u001B[0;32m~/opt/anaconda3/envs/DataAnalytics/lib/python3.6/site-packages/pandas/core/frame.py\u001B[0m in \u001B[0;36m_getitem_column\u001B[0;34m(self, key)\u001B[0m\n\u001B[1;32m   2693\u001B[0m         \u001B[0;31m# get column\u001B[0m\u001B[0;34m\u001B[0m\u001B[0;34m\u001B[0m\u001B[0;34m\u001B[0m\u001B[0m\n\u001B[1;32m   2694\u001B[0m         \u001B[0;32mif\u001B[0m \u001B[0mself\u001B[0m\u001B[0;34m.\u001B[0m\u001B[0mcolumns\u001B[0m\u001B[0;34m.\u001B[0m\u001B[0mis_unique\u001B[0m\u001B[0;34m:\u001B[0m\u001B[0;34m\u001B[0m\u001B[0;34m\u001B[0m\u001B[0m\n\u001B[0;32m-> 2695\u001B[0;31m             \u001B[0;32mreturn\u001B[0m \u001B[0mself\u001B[0m\u001B[0;34m.\u001B[0m\u001B[0m_get_item_cache\u001B[0m\u001B[0;34m(\u001B[0m\u001B[0mkey\u001B[0m\u001B[0;34m)\u001B[0m\u001B[0;34m\u001B[0m\u001B[0;34m\u001B[0m\u001B[0m\n\u001B[0m\u001B[1;32m   2696\u001B[0m \u001B[0;34m\u001B[0m\u001B[0m\n\u001B[1;32m   2697\u001B[0m         \u001B[0;31m# duplicate columns & possible reduce dimensionality\u001B[0m\u001B[0;34m\u001B[0m\u001B[0;34m\u001B[0m\u001B[0;34m\u001B[0m\u001B[0m\n",
      "\u001B[0;32m~/opt/anaconda3/envs/DataAnalytics/lib/python3.6/site-packages/pandas/core/generic.py\u001B[0m in \u001B[0;36m_get_item_cache\u001B[0;34m(self, item)\u001B[0m\n\u001B[1;32m   2487\u001B[0m         \u001B[0mres\u001B[0m \u001B[0;34m=\u001B[0m \u001B[0mcache\u001B[0m\u001B[0;34m.\u001B[0m\u001B[0mget\u001B[0m\u001B[0;34m(\u001B[0m\u001B[0mitem\u001B[0m\u001B[0;34m)\u001B[0m\u001B[0;34m\u001B[0m\u001B[0;34m\u001B[0m\u001B[0m\n\u001B[1;32m   2488\u001B[0m         \u001B[0;32mif\u001B[0m \u001B[0mres\u001B[0m \u001B[0;32mis\u001B[0m \u001B[0;32mNone\u001B[0m\u001B[0;34m:\u001B[0m\u001B[0;34m\u001B[0m\u001B[0;34m\u001B[0m\u001B[0m\n\u001B[0;32m-> 2489\u001B[0;31m             \u001B[0mvalues\u001B[0m \u001B[0;34m=\u001B[0m \u001B[0mself\u001B[0m\u001B[0;34m.\u001B[0m\u001B[0m_data\u001B[0m\u001B[0;34m.\u001B[0m\u001B[0mget\u001B[0m\u001B[0;34m(\u001B[0m\u001B[0mitem\u001B[0m\u001B[0;34m)\u001B[0m\u001B[0;34m\u001B[0m\u001B[0;34m\u001B[0m\u001B[0m\n\u001B[0m\u001B[1;32m   2490\u001B[0m             \u001B[0mres\u001B[0m \u001B[0;34m=\u001B[0m \u001B[0mself\u001B[0m\u001B[0;34m.\u001B[0m\u001B[0m_box_item_values\u001B[0m\u001B[0;34m(\u001B[0m\u001B[0mitem\u001B[0m\u001B[0;34m,\u001B[0m \u001B[0mvalues\u001B[0m\u001B[0;34m)\u001B[0m\u001B[0;34m\u001B[0m\u001B[0;34m\u001B[0m\u001B[0m\n\u001B[1;32m   2491\u001B[0m             \u001B[0mcache\u001B[0m\u001B[0;34m[\u001B[0m\u001B[0mitem\u001B[0m\u001B[0;34m]\u001B[0m \u001B[0;34m=\u001B[0m \u001B[0mres\u001B[0m\u001B[0;34m\u001B[0m\u001B[0;34m\u001B[0m\u001B[0m\n",
      "\u001B[0;32m~/opt/anaconda3/envs/DataAnalytics/lib/python3.6/site-packages/pandas/core/internals.py\u001B[0m in \u001B[0;36mget\u001B[0;34m(self, item, fastpath)\u001B[0m\n\u001B[1;32m   4113\u001B[0m \u001B[0;34m\u001B[0m\u001B[0m\n\u001B[1;32m   4114\u001B[0m             \u001B[0;32mif\u001B[0m \u001B[0;32mnot\u001B[0m \u001B[0misna\u001B[0m\u001B[0;34m(\u001B[0m\u001B[0mitem\u001B[0m\u001B[0;34m)\u001B[0m\u001B[0;34m:\u001B[0m\u001B[0;34m\u001B[0m\u001B[0;34m\u001B[0m\u001B[0m\n\u001B[0;32m-> 4115\u001B[0;31m                 \u001B[0mloc\u001B[0m \u001B[0;34m=\u001B[0m \u001B[0mself\u001B[0m\u001B[0;34m.\u001B[0m\u001B[0mitems\u001B[0m\u001B[0;34m.\u001B[0m\u001B[0mget_loc\u001B[0m\u001B[0;34m(\u001B[0m\u001B[0mitem\u001B[0m\u001B[0;34m)\u001B[0m\u001B[0;34m\u001B[0m\u001B[0;34m\u001B[0m\u001B[0m\n\u001B[0m\u001B[1;32m   4116\u001B[0m             \u001B[0;32melse\u001B[0m\u001B[0;34m:\u001B[0m\u001B[0;34m\u001B[0m\u001B[0;34m\u001B[0m\u001B[0m\n\u001B[1;32m   4117\u001B[0m                 \u001B[0mindexer\u001B[0m \u001B[0;34m=\u001B[0m \u001B[0mnp\u001B[0m\u001B[0;34m.\u001B[0m\u001B[0marange\u001B[0m\u001B[0;34m(\u001B[0m\u001B[0mlen\u001B[0m\u001B[0;34m(\u001B[0m\u001B[0mself\u001B[0m\u001B[0;34m.\u001B[0m\u001B[0mitems\u001B[0m\u001B[0;34m)\u001B[0m\u001B[0;34m)\u001B[0m\u001B[0;34m[\u001B[0m\u001B[0misna\u001B[0m\u001B[0;34m(\u001B[0m\u001B[0mself\u001B[0m\u001B[0;34m.\u001B[0m\u001B[0mitems\u001B[0m\u001B[0;34m)\u001B[0m\u001B[0;34m]\u001B[0m\u001B[0;34m\u001B[0m\u001B[0;34m\u001B[0m\u001B[0m\n",
      "\u001B[0;32m~/opt/anaconda3/envs/DataAnalytics/lib/python3.6/site-packages/pandas/core/indexes/base.py\u001B[0m in \u001B[0;36mget_loc\u001B[0;34m(self, key, method, tolerance)\u001B[0m\n\u001B[1;32m   3078\u001B[0m                 \u001B[0;32mreturn\u001B[0m \u001B[0mself\u001B[0m\u001B[0;34m.\u001B[0m\u001B[0m_engine\u001B[0m\u001B[0;34m.\u001B[0m\u001B[0mget_loc\u001B[0m\u001B[0;34m(\u001B[0m\u001B[0mkey\u001B[0m\u001B[0;34m)\u001B[0m\u001B[0;34m\u001B[0m\u001B[0;34m\u001B[0m\u001B[0m\n\u001B[1;32m   3079\u001B[0m             \u001B[0;32mexcept\u001B[0m \u001B[0mKeyError\u001B[0m\u001B[0;34m:\u001B[0m\u001B[0;34m\u001B[0m\u001B[0;34m\u001B[0m\u001B[0m\n\u001B[0;32m-> 3080\u001B[0;31m                 \u001B[0;32mreturn\u001B[0m \u001B[0mself\u001B[0m\u001B[0;34m.\u001B[0m\u001B[0m_engine\u001B[0m\u001B[0;34m.\u001B[0m\u001B[0mget_loc\u001B[0m\u001B[0;34m(\u001B[0m\u001B[0mself\u001B[0m\u001B[0;34m.\u001B[0m\u001B[0m_maybe_cast_indexer\u001B[0m\u001B[0;34m(\u001B[0m\u001B[0mkey\u001B[0m\u001B[0;34m)\u001B[0m\u001B[0;34m)\u001B[0m\u001B[0;34m\u001B[0m\u001B[0;34m\u001B[0m\u001B[0m\n\u001B[0m\u001B[1;32m   3081\u001B[0m \u001B[0;34m\u001B[0m\u001B[0m\n\u001B[1;32m   3082\u001B[0m         \u001B[0mindexer\u001B[0m \u001B[0;34m=\u001B[0m \u001B[0mself\u001B[0m\u001B[0;34m.\u001B[0m\u001B[0mget_indexer\u001B[0m\u001B[0;34m(\u001B[0m\u001B[0;34m[\u001B[0m\u001B[0mkey\u001B[0m\u001B[0;34m]\u001B[0m\u001B[0;34m,\u001B[0m \u001B[0mmethod\u001B[0m\u001B[0;34m=\u001B[0m\u001B[0mmethod\u001B[0m\u001B[0;34m,\u001B[0m \u001B[0mtolerance\u001B[0m\u001B[0;34m=\u001B[0m\u001B[0mtolerance\u001B[0m\u001B[0;34m)\u001B[0m\u001B[0;34m\u001B[0m\u001B[0;34m\u001B[0m\u001B[0m\n",
      "\u001B[0;32mpandas/_libs/index.pyx\u001B[0m in \u001B[0;36mpandas._libs.index.IndexEngine.get_loc\u001B[0;34m()\u001B[0m\n",
      "\u001B[0;32mpandas/_libs/index.pyx\u001B[0m in \u001B[0;36mpandas._libs.index.IndexEngine.get_loc\u001B[0;34m()\u001B[0m\n",
      "\u001B[0;32mpandas/_libs/hashtable_class_helper.pxi\u001B[0m in \u001B[0;36mpandas._libs.hashtable.PyObjectHashTable.get_item\u001B[0;34m()\u001B[0m\n",
      "\u001B[0;32mpandas/_libs/hashtable_class_helper.pxi\u001B[0m in \u001B[0;36mpandas._libs.hashtable.PyObjectHashTable.get_item\u001B[0;34m()\u001B[0m\n",
      "\u001B[0;31mKeyError\u001B[0m: 'Distance(mi)'"
     ]
    }
   ],
   "source": [
    "# display all value counts -> length: counts unique values\n",
    "for column in column_list:  # list of columns\n",
    "    print(data_ori[column].value_counts().sort_index(), \"\\n\")\n",
    "\n"
   ],
   "metadata": {
    "collapsed": false,
    "pycharm": {
     "name": "#%%\n"
    }
   }
  },
  {
   "cell_type": "markdown",
   "source": [
    "### 5.1 Drop columns\n",
    "TODO: explain why dropping for each column"
   ],
   "metadata": {
    "collapsed": false
   }
  },
  {
   "cell_type": "code",
   "execution_count": 104,
   "outputs": [],
   "source": [
    "columns_to_drop = [\n",
    "    'Description',\n",
    "    'Number',\n",
    "    'Precipitation(in)',\n",
    "    'Turning_Loop',\n",
    "    'Timezone',\n",
    "    'Airport_Code',\n",
    "    'Weather_Timestamp',\n",
    "    'Wind_Chill(F)'\n",
    "]\n",
    "\n",
    "data_ori.drop(columns=columns_to_drop, inplace=True)  # inplace -> no need to store result in new variable"
   ],
   "metadata": {
    "collapsed": false,
    "pycharm": {
     "name": "#%%\n"
    }
   }
  },
  {
   "cell_type": "markdown",
   "source": [
    "### 5.2 Drop missing values"
   ],
   "metadata": {
    "collapsed": false
   }
  },
  {
   "cell_type": "code",
   "execution_count": 105,
   "outputs": [],
   "source": [
    "#TODO: Check for non and then drop\n",
    "\n"
   ],
   "metadata": {
    "collapsed": false,
    "pycharm": {
     "name": "#%%\n"
    }
   }
  },
  {
   "cell_type": "markdown",
   "source": [
    "### 5.3 Drop incorrect values"
   ],
   "metadata": {
    "collapsed": false
   }
  },
  {
   "cell_type": "code",
   "execution_count": 106,
   "outputs": [],
   "source": [
    "# TODO: explain why dropping these values (extreme temp/wind)\n",
    "\n",
    "# Extreme Temperature -> 5 values\n",
    "data_ori.drop(data_ori[(data_ori['Temperature(F)'] >= 168.8) | (data_ori['Temperature(F)'] <= -77.8)].index,\n",
    "              inplace=True)\n",
    "\n",
    "# Extreme Wind_Speed -> 6 values\n",
    "data_ori.drop(data_ori[data_ori['Wind_Speed(mph)'] >= 471.8].index, inplace=True)"
   ],
   "metadata": {
    "collapsed": false,
    "pycharm": {
     "name": "#%%\n"
    }
   }
  },
  {
   "cell_type": "markdown",
   "source": [
    "### 5.4 Value Transformation\n",
    "\n",
    "#### 5.4.1 Zip Code"
   ],
   "metadata": {
    "collapsed": false,
    "pycharm": {
     "name": "#%% md\n"
    }
   }
  },
  {
   "cell_type": "code",
   "execution_count": 107,
   "outputs": [],
   "source": [
    "# TODO: explanation\n",
    "data_ori['Zipcode'] = data_ori['Zipcode'].str[:5]  # take first 5 digits of zip code -> save it in column again\n"
   ],
   "metadata": {
    "collapsed": false,
    "pycharm": {
     "name": "#%%\n"
    }
   }
  },
  {
   "cell_type": "markdown",
   "source": [
    "#### 5.4.2 Unit conversion to SI units\n",
    "\n",
    "TODO: (Luke) fil End_lat and End_Lng by Start_Lat and Start_Lng (check prior what is the average difference between the two)\n"
   ],
   "metadata": {
    "collapsed": false
   }
  },
  {
   "cell_type": "code",
   "execution_count": 108,
   "outputs": [],
   "source": [
    "# Distance miles -> kilometres\n",
    "data_ori['Distance(km)'] = data_ori['Distance(mi)'] * 1.609\n",
    "\n",
    "# Temperature F -> C\n",
    "data_ori['Temperature(C)'] = (data_ori['Temperature(F)'] - 32) / 1.8\n",
    "\n",
    "# Wind_Speed mi/h -> km/h\n",
    "data_ori['Wind_Speed(kmh)'] = data_ori['Wind_Speed(mph)'] * 1.609\n",
    "\n",
    "# Visibility mi -> km\n",
    "data_ori['Visibility(km)'] = data_ori['Visibility(mi)'] * 1.609\n",
    "\n",
    "# Pressure Pa -> in\n",
    "data_ori['Pressure(Pa)'] = data_ori['Pressure(in)'] / 29.92\n",
    "\n",
    "\n",
    "columns_to_drop = [\n",
    "    'Distance(mi)',\n",
    "    'Temperature(F)',\n",
    "    'Wind_Speed(mph)',\n",
    "    'Visibility(mi)',\n",
    "    'Pressure(in)'\n",
    "]\n",
    "\n",
    "data_ori.drop(columns=columns_to_drop, inplace=True)"
   ],
   "metadata": {
    "collapsed": false,
    "pycharm": {
     "name": "#%%\n"
    }
   }
  },
  {
   "cell_type": "markdown",
   "source": [
    "#### 5.4.3 Timestamp transformation\n",
    "TODO: explain"
   ],
   "metadata": {
    "collapsed": false
   }
  },
  {
   "cell_type": "code",
   "execution_count": 109,
   "outputs": [],
   "source": [
    "data_ori['Start_Time'] = pd.to_datetime(data_ori['Start_Time'])\n",
    "\n",
    "data_ori['Weekday'] = data_ori['Start_Time'].dt.dayofweek  # Monday = 0\n",
    "data_ori['Month'] = data_ori['Start_Time'].dt.month  # Monday = 0\n",
    "data_ori['Hour'] = data_ori['Start_Time'].dt.hour  # Monday = 0"
   ],
   "metadata": {
    "collapsed": false,
    "pycharm": {
     "name": "#%%\n"
    }
   }
  },
  {
   "cell_type": "markdown",
   "source": [
    "#### 5.4.4 Wind direction transformation\n",
    "TODO: explain"
   ],
   "metadata": {
    "collapsed": false
   }
  },
  {
   "cell_type": "code",
   "execution_count": 118,
   "outputs": [
    {
     "name": "stdout",
     "output_type": "stream",
     "text": [
      "CALM    282062\n",
      "E        76499\n",
      "ENE      51257\n",
      "ESE      51295\n",
      "N        89286\n",
      "NE       48355\n",
      "NNE      46509\n",
      "NNW      68014\n",
      "NW       75810\n",
      "S       108139\n",
      "SE       54770\n",
      "SSE      65058\n",
      "SSW      69901\n",
      "SW       65626\n",
      "VAR      62708\n",
      "W       112670\n",
      "WNW      77743\n",
      "WSW      68504\n",
      "Name: Wind_Direction, dtype: int64 \n",
      "\n"
     ]
    }
   ],
   "source": [
    "data_ori[\"Wind_Direction\"].replace(wind_values, inplace=True)"
   ],
   "metadata": {
    "collapsed": false,
    "pycharm": {
     "name": "#%%\n"
    }
   }
  },
  {
   "cell_type": "markdown",
   "source": [
    "### 5.5 Set Data Types"
   ],
   "metadata": {
    "collapsed": false
   }
  },
  {
   "cell_type": "code",
   "execution_count": 81,
   "outputs": [],
   "source": [
    "data_prep = data_ori"
   ],
   "metadata": {
    "collapsed": false,
    "pycharm": {
     "name": "#%%\n"
    }
   }
  },
  {
   "cell_type": "markdown",
   "source": [
    "---\n",
    "## 6 Exploratory Data Analysis\n",
    "### 6.1 Univariate Non-Graphical\n",
    "\n",
    "describe data again\n",
    "\n",
    "idea: What learnings can be drawn for your own driving behaviour? When is the most dangerous time? What is the most\n",
    "what is the most dangerous weather? Which is the most dangerous state? How strong is the correlation between accidents\n",
    "and the population density? What are the safest types of crossings? Where is the most dangerous place in the US?\n",
    "difference weekday/weekend\n",
    "differentiate between corona and pre-corona times; include apple mobility data https://covid19.apple.com/mobility"
   ],
   "metadata": {
    "collapsed": false
   }
  },
  {
   "cell_type": "code",
   "execution_count": null,
   "outputs": [],
   "source": [
    "# display all value counts\n",
    "for column in data_prep: # list of columns\n",
    "    print(data_prep[column].value_counts().sort_index(), \"\\n\")"
   ],
   "metadata": {
    "collapsed": false,
    "pycharm": {
     "name": "#%%\n"
    }
   }
  },
  {
   "cell_type": "code",
   "execution_count": null,
   "outputs": [],
   "source": [
    "# display data types\n",
    "data_prep.dtypes"
   ],
   "metadata": {
    "collapsed": false,
    "pycharm": {
     "name": "#%%\n"
    }
   }
  },
  {
   "cell_type": "code",
   "execution_count": null,
   "outputs": [],
   "source": [
    "# describe numerical columns\n",
    "data_prep.describe()"
   ],
   "metadata": {
    "collapsed": false,
    "pycharm": {
     "name": "#%%\n"
    }
   }
  },
  {
   "cell_type": "code",
   "execution_count": null,
   "outputs": [],
   "source": [],
   "metadata": {
    "collapsed": false,
    "pycharm": {
     "name": "#%%\n"
    }
   }
  },
  {
   "cell_type": "code",
   "execution_count": null,
   "outputs": [],
   "source": [],
   "metadata": {
    "collapsed": false,
    "pycharm": {
     "name": "#%%\n"
    }
   }
  },
  {
   "cell_type": "code",
   "execution_count": null,
   "outputs": [],
   "source": [],
   "metadata": {
    "collapsed": false,
    "pycharm": {
     "name": "#%%\n"
    }
   }
  },
  {
   "cell_type": "code",
   "execution_count": null,
   "outputs": [],
   "source": [],
   "metadata": {
    "collapsed": false,
    "pycharm": {
     "name": "#%%\n"
    }
   }
  },
  {
   "cell_type": "code",
   "execution_count": null,
   "outputs": [],
   "source": [],
   "metadata": {
    "collapsed": false,
    "pycharm": {
     "name": "#%%\n"
    }
   }
  },
  {
   "cell_type": "markdown",
   "source": [
    "### 6.2 Univariate Graphical"
   ],
   "metadata": {
    "collapsed": false
   }
  },
  {
   "cell_type": "code",
   "execution_count": null,
   "outputs": [],
   "source": [
    "# ideas: qq plots, histograms, barplots,\n",
    "\n",
    "for column in:  # list of columns\n",
    "    fig, ax = plt.subplots(1, 1, figsize=(15, 6))\n",
    "    sns.countplot(y=data_prep[column][1:], data=data_prep.iloc[1:], order=data_prep[column][1:].value_counts().index,\n",
    "                  palette='Blues_r')\n",
    "    fig.text(0.1, 0.95, column, fontsize=16, fontweight='bold', fontfamily='serif')\n",
    "    plt.xlabel('', fontsize=20)\n",
    "    plt.ylabel('')\n",
    "    plt.yticks(fontsize=13)\n",
    "    plt.box(False)"
   ],
   "metadata": {
    "collapsed": false,
    "pycharm": {
     "name": "#%%\n"
    }
   }
  },
  {
   "cell_type": "code",
   "execution_count": null,
   "outputs": [],
   "source": [
    "# histogram of accidents of the biggest cities\n",
    "data_prep.City.value_counts()[:20].plot(kind='bar')"
   ],
   "metadata": {
    "collapsed": false,
    "pycharm": {
     "name": "#%%\n"
    }
   }
  },
  {
   "cell_type": "code",
   "execution_count": null,
   "outputs": [],
   "source": [
    "# histogram of accidents according to the weather condition (how to standardize?)\n",
    "data_prep.Weather_Condition.value_counts().plot(kind='bar')"
   ],
   "metadata": {
    "collapsed": false,
    "pycharm": {
     "name": "#%%\n"
    }
   }
  },
  {
   "cell_type": "code",
   "execution_count": null,
   "outputs": [],
   "source": [
    "# histogram of accidents according to time of day"
   ],
   "metadata": {
    "collapsed": false,
    "pycharm": {
     "name": "#%%\n"
    }
   }
  },
  {
   "cell_type": "code",
   "execution_count": null,
   "outputs": [],
   "source": [
    "# histogram of accidents filtered by state\n",
    "data_prep.State.value_counts().plot(kind='bar')"
   ],
   "metadata": {
    "collapsed": false,
    "pycharm": {
     "name": "#%%\n"
    }
   }
  },
  {
   "cell_type": "code",
   "execution_count": null,
   "outputs": [],
   "source": [
    "# pie diagram on severity\n",
    "data_prep.Severity.value_counts().plot.pie()\n",
    "# pie diagram on severity if the weather is poor (wind > threashold, rain > threshold)"
   ],
   "metadata": {
    "collapsed": false,
    "pycharm": {
     "name": "#%%\n"
    }
   }
  },
  {
   "cell_type": "code",
   "execution_count": null,
   "outputs": [],
   "source": [
    "# average duration (densityfunction)"
   ],
   "metadata": {
    "collapsed": false,
    "pycharm": {
     "name": "#%%\n"
    }
   }
  },
  {
   "cell_type": "code",
   "execution_count": null,
   "outputs": [],
   "source": [
    "# barplot of the connection between severity and distance"
   ],
   "metadata": {
    "collapsed": false,
    "pycharm": {
     "name": "#%%\n"
    }
   }
  },
  {
   "cell_type": "code",
   "execution_count": null,
   "outputs": [],
   "source": [],
   "metadata": {
    "collapsed": false,
    "pycharm": {
     "name": "#%%\n"
    }
   }
  },
  {
   "cell_type": "code",
   "execution_count": null,
   "outputs": [],
   "source": [],
   "metadata": {
    "collapsed": false,
    "pycharm": {
     "name": "#%%\n"
    }
   }
  },
  {
   "cell_type": "code",
   "execution_count": null,
   "outputs": [],
   "source": [],
   "metadata": {
    "collapsed": false,
    "pycharm": {
     "name": "#%%\n"
    }
   }
  },
  {
   "cell_type": "markdown",
   "source": [
    "### 6.3 Multivariate Non-Graphical"
   ],
   "metadata": {
    "collapsed": false
   }
  },
  {
   "cell_type": "code",
   "execution_count": null,
   "outputs": [],
   "source": [
    "# correlation matrices and PCA??\n",
    "data_prep.corr(method='spearman')"
   ],
   "metadata": {
    "collapsed": false,
    "pycharm": {
     "name": "#%%\n"
    }
   }
  },
  {
   "cell_type": "markdown",
   "source": [
    "### 6.4 Multivariate Graphical"
   ],
   "metadata": {
    "collapsed": false
   }
  },
  {
   "cell_type": "code",
   "execution_count": null,
   "outputs": [],
   "source": [
    "# to be adjusted:\n",
    "fig=plt.gcf()\n",
    "fig.set_size_inches(20,20)\n",
    "fig=sns.heatmap(data_prep.corr(),annot=True,linewidths=1,linecolor='k',square=True,mask=False, vmin=-1, vmax=1,cbar_kws={\"orientation\": \"vertical\"},cbar=True)\n",
    "sns.set(style='ticks')\n",
    "sns.pairplot(data_prep)\n",
    "\n",
    "# US map simple: scatterplot based on latitude and longitude data, with correct alpha, to show densitiy\n",
    "sns.jointplot(x=data_prep.Start_Lng.values,y=data_prep.Start_Lat.values,height=8)\n",
    "plt.ylabel('Start_Lat', fontsize=12)\n",
    "plt.xlabel('Start_Lng', fontsize=12)\n",
    "plt.show()\n",
    "# ideas: A MAP of the US, showing the accident intensity for each place by colour\n",
    "# https://runestone.academy/runestone/books/published/httlads/WorldFacts/cs1_graphing_infant_mortality.html\n"
   ],
   "metadata": {
    "collapsed": false,
    "pycharm": {
     "name": "#%%\n"
    }
   }
  },
  {
   "cell_type": "markdown",
   "source": [
    "---\n",
    "## 7 Feature Engineering\n",
    "### 7.1 Type Conversion\n",
    "\n",
    "duration\n",
    "TMC: NA is an important information"
   ],
   "metadata": {
    "collapsed": false
   }
  },
  {
   "cell_type": "code",
   "execution_count": null,
   "outputs": [],
   "source": [],
   "metadata": {
    "collapsed": false,
    "pycharm": {
     "name": "#%%\n"
    }
   }
  },
  {
   "cell_type": "markdown",
   "source": [
    "### 7.2 Transformation"
   ],
   "metadata": {
    "collapsed": false
   }
  },
  {
   "cell_type": "code",
   "execution_count": null,
   "outputs": [],
   "source": [],
   "metadata": {
    "collapsed": false,
    "pycharm": {
     "name": "#%%\n"
    }
   }
  },
  {
   "cell_type": "markdown",
   "source": [
    "---\n",
    "## 8 Model\n",
    "### 8.1 Partitioning the Data"
   ],
   "metadata": {
    "collapsed": false
   }
  },
  {
   "cell_type": "code",
   "execution_count": null,
   "outputs": [],
   "source": [],
   "metadata": {
    "collapsed": false,
    "pycharm": {
     "name": "#%%\n"
    }
   }
  },
  {
   "cell_type": "markdown",
   "source": [
    "### 8.2 Sampling"
   ],
   "metadata": {
    "collapsed": false
   }
  },
  {
   "cell_type": "code",
   "execution_count": null,
   "outputs": [],
   "source": [],
   "metadata": {
    "collapsed": false,
    "pycharm": {
     "name": "#%%\n"
    }
   }
  },
  {
   "cell_type": "markdown",
   "source": [
    "### 8.3 \"\"Model\"\""
   ],
   "metadata": {
    "collapsed": false
   }
  },
  {
   "cell_type": "code",
   "execution_count": null,
   "outputs": [],
   "source": [
    "# How much does the inclusion of apples mobility value increase the accurancy of our prediction model?\n",
    "# LSTM-GBRT https://downloads.hindawi.com/journals/jcse/2020/4206919.pdf\n",
    "# hybrid K-means and random forest https://link.springer.com/content/pdf/10.1007/s42452-020-3125-1.pdf\n",
    "# OCT https://towardsdatascience.com/using-machine-learning-to-predict-car-accidents-44664c79c942\n",
    "# Regression-kriging https://carto.com/blog/predicting-traffic-accident-hotspots-with-spatial-data-science/\n"
   ],
   "metadata": {
    "collapsed": false,
    "pycharm": {
     "name": "#%%\n"
    }
   }
  },
  {
   "cell_type": "markdown",
   "source": [
    "### 8.4 Testing"
   ],
   "metadata": {
    "collapsed": false
   }
  },
  {
   "cell_type": "markdown",
   "source": [
    "### 8.5 Prediction driving factors\n",
    "\n",
    "# SHAP diagram\n",
    "\n"
   ],
   "metadata": {
    "collapsed": false,
    "pycharm": {
     "name": "#%% md\n"
    }
   }
  }
 ],
 "metadata": {
  "kernelspec": {
   "display_name": "Python 3",
   "language": "python",
   "name": "python3"
  },
  "language_info": {
   "codemirror_mode": {
    "name": "ipython",
    "version": 2
   },
   "file_extension": ".py",
   "mimetype": "text/x-python",
   "name": "python",
   "nbconvert_exporter": "python",
   "pygments_lexer": "ipython2",
   "version": "2.7.6"
  }
 },
 "nbformat": 4,
 "nbformat_minor": 0
}
